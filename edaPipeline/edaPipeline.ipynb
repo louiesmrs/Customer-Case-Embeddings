{
 "cells": [
  {
   "cell_type": "code",
   "execution_count": 1,
   "id": "c0587f14",
   "metadata": {
    "tags": [
     "parameters"
    ]
   },
   "outputs": [],
   "source": [
    "# declare a list tasks whose products you want to use as inputs\n",
    "upstream = None\n"
   ]
  },
  {
   "cell_type": "raw",
   "source": [
    "import numpy as np #linear algebra\n",
    "import pandas as pd #data manipulation and analysis\n",
    "import seaborn as sns #data visualization\n",
    "import matplotlib.pyplot as plt #data visualization\n",
    "import sklearn.preprocessing as skp #machine learning (preprocessing)\n",
    "import sklearn.cluster as skc #machine learning (clustering)\n",
    "import warnings # ignore warnings\n",
    "warnings.filterwarnings('ignore')"
   ],
   "metadata": {
    "collapsed": false
   }
  },
  {
   "cell_type": "code",
   "execution_count": 2,
   "metadata": {
    "collapsed": false
   },
   "outputs": [],
   "source": [
    "upstream = None\n",
    "product = None"
   ]
  },
  {
   "cell_type": "code",
   "execution_count": 3,
   "outputs": [],
   "source": [
    "import numpy as np #linear algebra\n",
    "import pandas as pd #data manipulation and analysis\n",
    "from sklearn import preprocessing"
   ],
   "metadata": {
    "collapsed": false
   }
  },
  {
   "cell_type": "markdown",
   "source": [
    "## INTRO TO DATA"
   ],
   "metadata": {
    "collapsed": false
   }
  },
  {
   "cell_type": "code",
   "execution_count": 4,
   "metadata": {
    "collapsed": false
   },
   "outputs": [],
   "source": [
    "df = pd.read_csv('~/Downloads/20K_cases_data_anonymized_label_encoded_v3.csv')"
   ]
  },
  {
   "cell_type": "code",
   "execution_count": 5,
   "metadata": {
    "collapsed": false
   },
   "outputs": [
    {
     "name": "stdout",
     "output_type": "stream",
     "text": [
      "<class 'pandas.core.frame.DataFrame'>\n",
      "RangeIndex: 20004 entries, 0 to 20003\n",
      "Data columns (total 19 columns):\n",
      " #   Column                Non-Null Count  Dtype  \n",
      "---  ------                --------------  -----  \n",
      " 0   case_nbr              20000 non-null  float64\n",
      " 1   created_dts           20000 non-null  object \n",
      " 2   created_date          20000 non-null  object \n",
      " 3   close_dts             19975 non-null  object \n",
      " 4   last_updated_dts      20000 non-null  object \n",
      " 5   contact_method        20000 non-null  float64\n",
      " 6   tag_id                20000 non-null  float64\n",
      " 7   prod_desc             20000 non-null  float64\n",
      " 8   country_name_dawn     19433 non-null  object \n",
      " 9   contact_method_name   20000 non-null  float64\n",
      " 10  system_age            20000 non-null  float64\n",
      " 11  total_inbounf_count   19738 non-null  float64\n",
      " 12  dispatch_number       20000 non-null  float64\n",
      " 13  parts_only            20000 non-null  float64\n",
      " 14  commodity_desc        20000 non-null  float64\n",
      " 15  dps_classification    20000 non-null  float64\n",
      " 16  total_activity_count  18284 non-null  float64\n",
      " 17  warranty_status       20000 non-null  float64\n",
      " 18  new_warranty_type     20000 non-null  float64\n",
      "dtypes: float64(14), object(5)\n",
      "memory usage: 2.9+ MB\n"
     ]
    }
   ],
   "source": [
    "df.info()"
   ]
  },
  {
   "cell_type": "code",
   "execution_count": 6,
   "metadata": {
    "collapsed": false
   },
   "outputs": [
    {
     "data": {
      "text/plain": "           case_nbr  contact_method        tag_id     prod_desc  \\\ncount  20000.000000    20000.000000  20000.000000  20000.000000   \nmean    9408.493800        2.759800   9224.546250      8.297350   \nstd     5435.213226        0.602098   5370.891902      2.833114   \nmin        1.000000        0.000000      1.000000      0.000000   \n25%     4703.750000        3.000000   4561.750000      7.000000   \n50%     9421.500000        3.000000   9210.500000      8.000000   \n75%    14135.250000        3.000000  13888.250000      8.000000   \nmax    18811.000000        3.000000  18561.000000     19.000000   \n\n       contact_method_name    system_age  total_inbounf_count  \\\ncount          20000.00000  20000.000000         19738.000000   \nmean               0.89780   1764.746500             3.074830   \nstd                0.92255   6929.217548             2.065828   \nmin                0.00000  -1493.000000             0.000000   \n25%                0.00000    246.750000             2.000000   \n50%                1.00000    621.000000             3.000000   \n75%                2.00000    976.000000             3.000000   \nmax                2.00000  43514.000000            49.000000   \n\n       dispatch_number  parts_only  commodity_desc  dps_classification  \\\ncount     20000.000000     20000.0    20000.000000             20000.0   \nmean       9952.192850         1.0        0.211350                 0.0   \nstd        5743.441076         0.0        0.408276                 0.0   \nmin           1.000000         1.0        0.000000                 0.0   \n25%        4977.750000         1.0        0.000000                 0.0   \n50%        9957.500000         1.0        0.000000                 0.0   \n75%       14925.250000         1.0        0.000000                 0.0   \nmax       19894.000000         1.0        1.000000                 0.0   \n\n       total_activity_count  warranty_status  new_warranty_type  \ncount          18284.000000     20000.000000       20000.000000  \nmean               8.060381         0.107800           6.190550  \nstd                7.992323         0.327848           3.893803  \nmin                1.000000         0.000000           0.000000  \n25%                4.000000         0.000000           2.000000  \n50%                5.000000         0.000000           9.000000  \n75%                9.000000         0.000000           9.000000  \nmax              136.000000         2.000000           9.000000  ",
      "text/html": "<div>\n<style scoped>\n    .dataframe tbody tr th:only-of-type {\n        vertical-align: middle;\n    }\n\n    .dataframe tbody tr th {\n        vertical-align: top;\n    }\n\n    .dataframe thead th {\n        text-align: right;\n    }\n</style>\n<table border=\"1\" class=\"dataframe\">\n  <thead>\n    <tr style=\"text-align: right;\">\n      <th></th>\n      <th>case_nbr</th>\n      <th>contact_method</th>\n      <th>tag_id</th>\n      <th>prod_desc</th>\n      <th>contact_method_name</th>\n      <th>system_age</th>\n      <th>total_inbounf_count</th>\n      <th>dispatch_number</th>\n      <th>parts_only</th>\n      <th>commodity_desc</th>\n      <th>dps_classification</th>\n      <th>total_activity_count</th>\n      <th>warranty_status</th>\n      <th>new_warranty_type</th>\n    </tr>\n  </thead>\n  <tbody>\n    <tr>\n      <th>count</th>\n      <td>20000.000000</td>\n      <td>20000.000000</td>\n      <td>20000.000000</td>\n      <td>20000.000000</td>\n      <td>20000.00000</td>\n      <td>20000.000000</td>\n      <td>19738.000000</td>\n      <td>20000.000000</td>\n      <td>20000.0</td>\n      <td>20000.000000</td>\n      <td>20000.0</td>\n      <td>18284.000000</td>\n      <td>20000.000000</td>\n      <td>20000.000000</td>\n    </tr>\n    <tr>\n      <th>mean</th>\n      <td>9408.493800</td>\n      <td>2.759800</td>\n      <td>9224.546250</td>\n      <td>8.297350</td>\n      <td>0.89780</td>\n      <td>1764.746500</td>\n      <td>3.074830</td>\n      <td>9952.192850</td>\n      <td>1.0</td>\n      <td>0.211350</td>\n      <td>0.0</td>\n      <td>8.060381</td>\n      <td>0.107800</td>\n      <td>6.190550</td>\n    </tr>\n    <tr>\n      <th>std</th>\n      <td>5435.213226</td>\n      <td>0.602098</td>\n      <td>5370.891902</td>\n      <td>2.833114</td>\n      <td>0.92255</td>\n      <td>6929.217548</td>\n      <td>2.065828</td>\n      <td>5743.441076</td>\n      <td>0.0</td>\n      <td>0.408276</td>\n      <td>0.0</td>\n      <td>7.992323</td>\n      <td>0.327848</td>\n      <td>3.893803</td>\n    </tr>\n    <tr>\n      <th>min</th>\n      <td>1.000000</td>\n      <td>0.000000</td>\n      <td>1.000000</td>\n      <td>0.000000</td>\n      <td>0.00000</td>\n      <td>-1493.000000</td>\n      <td>0.000000</td>\n      <td>1.000000</td>\n      <td>1.0</td>\n      <td>0.000000</td>\n      <td>0.0</td>\n      <td>1.000000</td>\n      <td>0.000000</td>\n      <td>0.000000</td>\n    </tr>\n    <tr>\n      <th>25%</th>\n      <td>4703.750000</td>\n      <td>3.000000</td>\n      <td>4561.750000</td>\n      <td>7.000000</td>\n      <td>0.00000</td>\n      <td>246.750000</td>\n      <td>2.000000</td>\n      <td>4977.750000</td>\n      <td>1.0</td>\n      <td>0.000000</td>\n      <td>0.0</td>\n      <td>4.000000</td>\n      <td>0.000000</td>\n      <td>2.000000</td>\n    </tr>\n    <tr>\n      <th>50%</th>\n      <td>9421.500000</td>\n      <td>3.000000</td>\n      <td>9210.500000</td>\n      <td>8.000000</td>\n      <td>1.00000</td>\n      <td>621.000000</td>\n      <td>3.000000</td>\n      <td>9957.500000</td>\n      <td>1.0</td>\n      <td>0.000000</td>\n      <td>0.0</td>\n      <td>5.000000</td>\n      <td>0.000000</td>\n      <td>9.000000</td>\n    </tr>\n    <tr>\n      <th>75%</th>\n      <td>14135.250000</td>\n      <td>3.000000</td>\n      <td>13888.250000</td>\n      <td>8.000000</td>\n      <td>2.00000</td>\n      <td>976.000000</td>\n      <td>3.000000</td>\n      <td>14925.250000</td>\n      <td>1.0</td>\n      <td>0.000000</td>\n      <td>0.0</td>\n      <td>9.000000</td>\n      <td>0.000000</td>\n      <td>9.000000</td>\n    </tr>\n    <tr>\n      <th>max</th>\n      <td>18811.000000</td>\n      <td>3.000000</td>\n      <td>18561.000000</td>\n      <td>19.000000</td>\n      <td>2.00000</td>\n      <td>43514.000000</td>\n      <td>49.000000</td>\n      <td>19894.000000</td>\n      <td>1.0</td>\n      <td>1.000000</td>\n      <td>0.0</td>\n      <td>136.000000</td>\n      <td>2.000000</td>\n      <td>9.000000</td>\n    </tr>\n  </tbody>\n</table>\n</div>"
     },
     "execution_count": 6,
     "metadata": {},
     "output_type": "execute_result"
    }
   ],
   "source": [
    "df.describe()"
   ]
  },
  {
   "cell_type": "markdown",
   "metadata": {
    "collapsed": false
   },
   "source": [
    "### Drop unnecessary Columns"
   ]
  },
  {
   "cell_type": "code",
   "execution_count": 7,
   "metadata": {
    "collapsed": false
   },
   "outputs": [],
   "source": [
    "# Specify the cols to drop\n",
    "to_drop = [\n",
    "    'parts_only', 'dps_classification', \"dispatch_number\"\n",
    "]\n",
    "\n",
    "# Drop them\n",
    "df.drop(to_drop, axis='columns', inplace=True)"
   ]
  },
  {
   "cell_type": "markdown",
   "metadata": {
    "collapsed": false
   },
   "source": [
    "### Distribution of Columns"
   ]
  },
  {
   "cell_type": "code",
   "execution_count": 8,
   "metadata": {
    "collapsed": false
   },
   "outputs": [],
   "source": [
    "# # Visualize the distribution of each variable.\n",
    "# plt.figure(figsize=(12,16))\n",
    "# for i, j in enumerate(df.describe().columns):\n",
    "#     plt.subplot(5,2, i+1)\n",
    "#     sns.distplot(x=df[j])\n",
    "#     plt.xlabel(j)\n",
    "#     plt.title('{} Distribution'.format(j))\n",
    "#     plt.subplots_adjust(wspace=.2, hspace=.5)\n",
    "#     plt.tight_layout()\n",
    "# plt.show()"
   ]
  },
  {
   "cell_type": "markdown",
   "metadata": {
    "collapsed": false
   },
   "source": [
    "## OUTLIERS FOR SYSTEM_AGE"
   ]
  },
  {
   "cell_type": "code",
   "execution_count": 9,
   "metadata": {
    "collapsed": false
   },
   "outputs": [
    {
     "data": {
      "text/plain": "       case_nbr created_dts      created_date close_dts last_updated_dts  \\\n37         38.0    00:08:57    5/21/2018 0:00  00:05:04         00:20:29   \n58         59.0    00:48:44  10/08/2018 00:00  00:42:09         00:42:09   \n64         65.0    00:26:27  02/01/2019 00:00  00:38:37         00:52:00   \n105       106.0    00:07:58   12/19/2018 0:00  00:44:38         00:37:32   \n164       165.0    00:31:52    6/16/2018 0:00  00:42:02         00:20:31   \n...         ...         ...               ...       ...              ...   \n19811   18678.0    00:06:43   12/18/2018 0:00  00:10:37         00:21:16   \n19833   18696.0    00:55:29  12/03/2018 00:00  00:18:21         00:44:49   \n19868   18726.0    00:00:53    6/19/2018 0:00  00:34:06         00:20:57   \n19891   18696.0    00:55:29  12/03/2018 00:00  00:18:21         00:44:49   \n19973   18805.0    00:24:34    1/19/2019 0:00  00:26:30         00:50:33   \n\n       contact_method   tag_id  prod_desc country_name_dawn  \\\n37                3.0     38.0        8.0               NaN   \n58                1.0     59.0        7.0               NaN   \n64                3.0     65.0        7.0               NaN   \n105               3.0    106.0       13.0               NaN   \n164               3.0    165.0        7.0               NaN   \n...               ...      ...        ...               ...   \n19811             2.0  18432.0        7.0               NaN   \n19833             3.0  18449.0        7.0               NaN   \n19868             3.0  18479.0        7.0               NaN   \n19891             3.0  18449.0        7.0               NaN   \n19973             1.0  18555.0        5.0               NaN   \n\n       contact_method_name  system_age  total_inbounf_count  commodity_desc  \\\n37                     0.0     43239.0                  2.0             0.0   \n58                     1.0     43379.0                  2.0             0.0   \n64                     0.0     43495.0                  5.0             0.0   \n105                    0.0     43451.0                  0.0             0.0   \n164                    0.0     43265.0                  2.0             0.0   \n...                    ...         ...                  ...             ...   \n19811                  2.0     43450.0                  3.0             0.0   \n19833                  0.0     43435.0                  6.0             0.0   \n19868                  0.0     43268.0                  2.0             0.0   \n19891                  0.0     43435.0                  6.0             0.0   \n19973                  2.0     43482.0                  3.0             0.0   \n\n       total_activity_count  warranty_status  new_warranty_type  \n37                     27.0              0.0                9.0  \n58                     11.0              0.0                9.0  \n64                      8.0              1.0                4.0  \n105                     NaN              1.0                4.0  \n164                     8.0              1.0                4.0  \n...                     ...              ...                ...  \n19811                  16.0              2.0                0.0  \n19833                  21.0              1.0                4.0  \n19868                   8.0              2.0                0.0  \n19891                  21.0              1.0                4.0  \n19973                  15.0              0.0                0.0  \n\n[536 rows x 16 columns]",
      "text/html": "<div>\n<style scoped>\n    .dataframe tbody tr th:only-of-type {\n        vertical-align: middle;\n    }\n\n    .dataframe tbody tr th {\n        vertical-align: top;\n    }\n\n    .dataframe thead th {\n        text-align: right;\n    }\n</style>\n<table border=\"1\" class=\"dataframe\">\n  <thead>\n    <tr style=\"text-align: right;\">\n      <th></th>\n      <th>case_nbr</th>\n      <th>created_dts</th>\n      <th>created_date</th>\n      <th>close_dts</th>\n      <th>last_updated_dts</th>\n      <th>contact_method</th>\n      <th>tag_id</th>\n      <th>prod_desc</th>\n      <th>country_name_dawn</th>\n      <th>contact_method_name</th>\n      <th>system_age</th>\n      <th>total_inbounf_count</th>\n      <th>commodity_desc</th>\n      <th>total_activity_count</th>\n      <th>warranty_status</th>\n      <th>new_warranty_type</th>\n    </tr>\n  </thead>\n  <tbody>\n    <tr>\n      <th>37</th>\n      <td>38.0</td>\n      <td>00:08:57</td>\n      <td>5/21/2018 0:00</td>\n      <td>00:05:04</td>\n      <td>00:20:29</td>\n      <td>3.0</td>\n      <td>38.0</td>\n      <td>8.0</td>\n      <td>NaN</td>\n      <td>0.0</td>\n      <td>43239.0</td>\n      <td>2.0</td>\n      <td>0.0</td>\n      <td>27.0</td>\n      <td>0.0</td>\n      <td>9.0</td>\n    </tr>\n    <tr>\n      <th>58</th>\n      <td>59.0</td>\n      <td>00:48:44</td>\n      <td>10/08/2018 00:00</td>\n      <td>00:42:09</td>\n      <td>00:42:09</td>\n      <td>1.0</td>\n      <td>59.0</td>\n      <td>7.0</td>\n      <td>NaN</td>\n      <td>1.0</td>\n      <td>43379.0</td>\n      <td>2.0</td>\n      <td>0.0</td>\n      <td>11.0</td>\n      <td>0.0</td>\n      <td>9.0</td>\n    </tr>\n    <tr>\n      <th>64</th>\n      <td>65.0</td>\n      <td>00:26:27</td>\n      <td>02/01/2019 00:00</td>\n      <td>00:38:37</td>\n      <td>00:52:00</td>\n      <td>3.0</td>\n      <td>65.0</td>\n      <td>7.0</td>\n      <td>NaN</td>\n      <td>0.0</td>\n      <td>43495.0</td>\n      <td>5.0</td>\n      <td>0.0</td>\n      <td>8.0</td>\n      <td>1.0</td>\n      <td>4.0</td>\n    </tr>\n    <tr>\n      <th>105</th>\n      <td>106.0</td>\n      <td>00:07:58</td>\n      <td>12/19/2018 0:00</td>\n      <td>00:44:38</td>\n      <td>00:37:32</td>\n      <td>3.0</td>\n      <td>106.0</td>\n      <td>13.0</td>\n      <td>NaN</td>\n      <td>0.0</td>\n      <td>43451.0</td>\n      <td>0.0</td>\n      <td>0.0</td>\n      <td>NaN</td>\n      <td>1.0</td>\n      <td>4.0</td>\n    </tr>\n    <tr>\n      <th>164</th>\n      <td>165.0</td>\n      <td>00:31:52</td>\n      <td>6/16/2018 0:00</td>\n      <td>00:42:02</td>\n      <td>00:20:31</td>\n      <td>3.0</td>\n      <td>165.0</td>\n      <td>7.0</td>\n      <td>NaN</td>\n      <td>0.0</td>\n      <td>43265.0</td>\n      <td>2.0</td>\n      <td>0.0</td>\n      <td>8.0</td>\n      <td>1.0</td>\n      <td>4.0</td>\n    </tr>\n    <tr>\n      <th>...</th>\n      <td>...</td>\n      <td>...</td>\n      <td>...</td>\n      <td>...</td>\n      <td>...</td>\n      <td>...</td>\n      <td>...</td>\n      <td>...</td>\n      <td>...</td>\n      <td>...</td>\n      <td>...</td>\n      <td>...</td>\n      <td>...</td>\n      <td>...</td>\n      <td>...</td>\n      <td>...</td>\n    </tr>\n    <tr>\n      <th>19811</th>\n      <td>18678.0</td>\n      <td>00:06:43</td>\n      <td>12/18/2018 0:00</td>\n      <td>00:10:37</td>\n      <td>00:21:16</td>\n      <td>2.0</td>\n      <td>18432.0</td>\n      <td>7.0</td>\n      <td>NaN</td>\n      <td>2.0</td>\n      <td>43450.0</td>\n      <td>3.0</td>\n      <td>0.0</td>\n      <td>16.0</td>\n      <td>2.0</td>\n      <td>0.0</td>\n    </tr>\n    <tr>\n      <th>19833</th>\n      <td>18696.0</td>\n      <td>00:55:29</td>\n      <td>12/03/2018 00:00</td>\n      <td>00:18:21</td>\n      <td>00:44:49</td>\n      <td>3.0</td>\n      <td>18449.0</td>\n      <td>7.0</td>\n      <td>NaN</td>\n      <td>0.0</td>\n      <td>43435.0</td>\n      <td>6.0</td>\n      <td>0.0</td>\n      <td>21.0</td>\n      <td>1.0</td>\n      <td>4.0</td>\n    </tr>\n    <tr>\n      <th>19868</th>\n      <td>18726.0</td>\n      <td>00:00:53</td>\n      <td>6/19/2018 0:00</td>\n      <td>00:34:06</td>\n      <td>00:20:57</td>\n      <td>3.0</td>\n      <td>18479.0</td>\n      <td>7.0</td>\n      <td>NaN</td>\n      <td>0.0</td>\n      <td>43268.0</td>\n      <td>2.0</td>\n      <td>0.0</td>\n      <td>8.0</td>\n      <td>2.0</td>\n      <td>0.0</td>\n    </tr>\n    <tr>\n      <th>19891</th>\n      <td>18696.0</td>\n      <td>00:55:29</td>\n      <td>12/03/2018 00:00</td>\n      <td>00:18:21</td>\n      <td>00:44:49</td>\n      <td>3.0</td>\n      <td>18449.0</td>\n      <td>7.0</td>\n      <td>NaN</td>\n      <td>0.0</td>\n      <td>43435.0</td>\n      <td>6.0</td>\n      <td>0.0</td>\n      <td>21.0</td>\n      <td>1.0</td>\n      <td>4.0</td>\n    </tr>\n    <tr>\n      <th>19973</th>\n      <td>18805.0</td>\n      <td>00:24:34</td>\n      <td>1/19/2019 0:00</td>\n      <td>00:26:30</td>\n      <td>00:50:33</td>\n      <td>1.0</td>\n      <td>18555.0</td>\n      <td>5.0</td>\n      <td>NaN</td>\n      <td>2.0</td>\n      <td>43482.0</td>\n      <td>3.0</td>\n      <td>0.0</td>\n      <td>15.0</td>\n      <td>0.0</td>\n      <td>0.0</td>\n    </tr>\n  </tbody>\n</table>\n<p>536 rows × 16 columns</p>\n</div>"
     },
     "execution_count": 9,
     "metadata": {},
     "output_type": "execute_result"
    }
   ],
   "source": [
    "\n",
    "df.loc[df['system_age'] > 10000\n",
    "\n",
    "       ]"
   ]
  },
  {
   "cell_type": "code",
   "execution_count": 10,
   "metadata": {
    "collapsed": false
   },
   "outputs": [
    {
     "name": "stderr",
     "output_type": "stream",
     "text": [
      "/var/folders/5p/hj6g32gj0_700q3tgctb49fh0000gn/T/ipykernel_54441/2934631696.py:1: SettingWithCopyWarning: \n",
      "A value is trying to be set on a copy of a slice from a DataFrame\n",
      "\n",
      "See the caveats in the documentation: https://pandas.pydata.org/pandas-docs/stable/user_guide/indexing.html#returning-a-view-versus-a-copy\n",
      "  df.system_age[df['system_age'] > 10000] = None\n"
     ]
    }
   ],
   "source": [
    "df.system_age[df['system_age'] > 10000] = None"
   ]
  },
  {
   "cell_type": "markdown",
   "metadata": {
    "collapsed": false
   },
   "source": [
    "### Filling missing data with mean"
   ]
  },
  {
   "cell_type": "code",
   "execution_count": 11,
   "metadata": {
    "collapsed": false
   },
   "outputs": [
    {
     "name": "stderr",
     "output_type": "stream",
     "text": [
      "/var/folders/5p/hj6g32gj0_700q3tgctb49fh0000gn/T/ipykernel_54441/22056121.py:1: SettingWithCopyWarning: \n",
      "A value is trying to be set on a copy of a slice from a DataFrame\n",
      "\n",
      "See the caveats in the documentation: https://pandas.pydata.org/pandas-docs/stable/user_guide/indexing.html#returning-a-view-versus-a-copy\n",
      "  df.system_age[df['system_age'] < 0] = None\n"
     ]
    }
   ],
   "source": [
    "df.system_age[df['system_age'] < 0] = None\n",
    "df.system_age.fillna(df.system_age.mean(), inplace=True)\n"
   ]
  },
  {
   "cell_type": "code",
   "execution_count": 12,
   "metadata": {
    "collapsed": false
   },
   "outputs": [
    {
     "data": {
      "text/plain": "Empty DataFrame\nColumns: [case_nbr, created_dts, created_date, close_dts, last_updated_dts, contact_method, tag_id, prod_desc, country_name_dawn, contact_method_name, system_age, total_inbounf_count, commodity_desc, total_activity_count, warranty_status, new_warranty_type]\nIndex: []",
      "text/html": "<div>\n<style scoped>\n    .dataframe tbody tr th:only-of-type {\n        vertical-align: middle;\n    }\n\n    .dataframe tbody tr th {\n        vertical-align: top;\n    }\n\n    .dataframe thead th {\n        text-align: right;\n    }\n</style>\n<table border=\"1\" class=\"dataframe\">\n  <thead>\n    <tr style=\"text-align: right;\">\n      <th></th>\n      <th>case_nbr</th>\n      <th>created_dts</th>\n      <th>created_date</th>\n      <th>close_dts</th>\n      <th>last_updated_dts</th>\n      <th>contact_method</th>\n      <th>tag_id</th>\n      <th>prod_desc</th>\n      <th>country_name_dawn</th>\n      <th>contact_method_name</th>\n      <th>system_age</th>\n      <th>total_inbounf_count</th>\n      <th>commodity_desc</th>\n      <th>total_activity_count</th>\n      <th>warranty_status</th>\n      <th>new_warranty_type</th>\n    </tr>\n  </thead>\n  <tbody>\n  </tbody>\n</table>\n</div>"
     },
     "execution_count": 12,
     "metadata": {},
     "output_type": "execute_result"
    }
   ],
   "source": [
    "df.loc[df['system_age'].isnull()\n",
    "       ]"
   ]
  },
  {
   "cell_type": "markdown",
   "metadata": {
    "collapsed": false
   },
   "source": [
    "## DROPPING DUPLICATE ROWS"
   ]
  },
  {
   "cell_type": "code",
   "execution_count": 13,
   "metadata": {
    "collapsed": false
   },
   "outputs": [
    {
     "data": {
      "text/plain": "1050"
     },
     "execution_count": 13,
     "metadata": {},
     "output_type": "execute_result"
    }
   ],
   "source": [
    "df.duplicated().sum()"
   ]
  },
  {
   "cell_type": "code",
   "execution_count": 14,
   "metadata": {
    "collapsed": false
   },
   "outputs": [
    {
     "data": {
      "text/plain": "       case_nbr created_dts      created_date close_dts last_updated_dts  \\\n3590       10.0    00:35:43    2/20/2019 0:00  00:42:10         00:14:32   \n3592       12.0    00:35:20    1/31/2019 0:00  00:51:32         00:34:15   \n3612       33.0    00:26:58    2/21/2019 0:00  00:38:18         00:46:02   \n3622       44.0    00:32:03  02/07/2019 00:00  00:24:16         00:51:42   \n3637       60.0    00:14:23  12/06/2018 00:00  00:50:33         00:49:45   \n...         ...         ...               ...       ...              ...   \n19998    9652.0    00:24:55   12/25/2018 0:00  00:11:44         00:08:59   \n19999    9652.0    00:24:55   12/25/2018 0:00  00:11:44         00:08:59   \n20001       NaN         NaN               NaN       NaN              NaN   \n20002       NaN         NaN               NaN       NaN              NaN   \n20003       NaN         NaN               NaN       NaN              NaN   \n\n       contact_method  tag_id  prod_desc country_name_dawn  \\\n3590              3.0    10.0        8.0            Brazil   \n3592              3.0    12.0        8.0             Japan   \n3612              3.0    33.0        8.0             India   \n3622              3.0    44.0        5.0             Korea   \n3637              1.0    60.0        7.0     United States   \n...               ...     ...        ...               ...   \n19998             3.0  9569.0        7.0             Japan   \n19999             3.0  9569.0        7.0             Japan   \n20001             NaN     NaN        NaN               NaN   \n20002             NaN     NaN        NaN               NaN   \n20003             NaN     NaN        NaN               NaN   \n\n       contact_method_name   system_age  total_inbounf_count  commodity_desc  \\\n3590                   2.0   807.000000                  3.0             0.0   \n3592                   2.0   861.000000                  5.0             0.0   \n3612                   2.0  1077.000000                  3.0             0.0   \n3622                   2.0   375.000000                  5.0             1.0   \n3637                   1.0   598.000000                  2.0             0.0   \n...                    ...          ...                  ...             ...   \n19998                  2.0   391.000000                  8.0             0.0   \n19999                  2.0   391.000000                  8.0             0.0   \n20001                  NaN   692.562918                  NaN             NaN   \n20002                  NaN   692.562918                  NaN             NaN   \n20003                  NaN   692.562918                  NaN             NaN   \n\n       total_activity_count  warranty_status  new_warranty_type  \n3590                    4.0              0.0                9.0  \n3592                    8.0              0.0                9.0  \n3612                   10.0              0.0                0.0  \n3622                   34.0              0.0                0.0  \n3637                    4.0              0.0                9.0  \n...                     ...              ...                ...  \n19998                  24.0              0.0                9.0  \n19999                  24.0              0.0                9.0  \n20001                   NaN              NaN                NaN  \n20002                   NaN              NaN                NaN  \n20003                   NaN              NaN                NaN  \n\n[1050 rows x 16 columns]",
      "text/html": "<div>\n<style scoped>\n    .dataframe tbody tr th:only-of-type {\n        vertical-align: middle;\n    }\n\n    .dataframe tbody tr th {\n        vertical-align: top;\n    }\n\n    .dataframe thead th {\n        text-align: right;\n    }\n</style>\n<table border=\"1\" class=\"dataframe\">\n  <thead>\n    <tr style=\"text-align: right;\">\n      <th></th>\n      <th>case_nbr</th>\n      <th>created_dts</th>\n      <th>created_date</th>\n      <th>close_dts</th>\n      <th>last_updated_dts</th>\n      <th>contact_method</th>\n      <th>tag_id</th>\n      <th>prod_desc</th>\n      <th>country_name_dawn</th>\n      <th>contact_method_name</th>\n      <th>system_age</th>\n      <th>total_inbounf_count</th>\n      <th>commodity_desc</th>\n      <th>total_activity_count</th>\n      <th>warranty_status</th>\n      <th>new_warranty_type</th>\n    </tr>\n  </thead>\n  <tbody>\n    <tr>\n      <th>3590</th>\n      <td>10.0</td>\n      <td>00:35:43</td>\n      <td>2/20/2019 0:00</td>\n      <td>00:42:10</td>\n      <td>00:14:32</td>\n      <td>3.0</td>\n      <td>10.0</td>\n      <td>8.0</td>\n      <td>Brazil</td>\n      <td>2.0</td>\n      <td>807.000000</td>\n      <td>3.0</td>\n      <td>0.0</td>\n      <td>4.0</td>\n      <td>0.0</td>\n      <td>9.0</td>\n    </tr>\n    <tr>\n      <th>3592</th>\n      <td>12.0</td>\n      <td>00:35:20</td>\n      <td>1/31/2019 0:00</td>\n      <td>00:51:32</td>\n      <td>00:34:15</td>\n      <td>3.0</td>\n      <td>12.0</td>\n      <td>8.0</td>\n      <td>Japan</td>\n      <td>2.0</td>\n      <td>861.000000</td>\n      <td>5.0</td>\n      <td>0.0</td>\n      <td>8.0</td>\n      <td>0.0</td>\n      <td>9.0</td>\n    </tr>\n    <tr>\n      <th>3612</th>\n      <td>33.0</td>\n      <td>00:26:58</td>\n      <td>2/21/2019 0:00</td>\n      <td>00:38:18</td>\n      <td>00:46:02</td>\n      <td>3.0</td>\n      <td>33.0</td>\n      <td>8.0</td>\n      <td>India</td>\n      <td>2.0</td>\n      <td>1077.000000</td>\n      <td>3.0</td>\n      <td>0.0</td>\n      <td>10.0</td>\n      <td>0.0</td>\n      <td>0.0</td>\n    </tr>\n    <tr>\n      <th>3622</th>\n      <td>44.0</td>\n      <td>00:32:03</td>\n      <td>02/07/2019 00:00</td>\n      <td>00:24:16</td>\n      <td>00:51:42</td>\n      <td>3.0</td>\n      <td>44.0</td>\n      <td>5.0</td>\n      <td>Korea</td>\n      <td>2.0</td>\n      <td>375.000000</td>\n      <td>5.0</td>\n      <td>1.0</td>\n      <td>34.0</td>\n      <td>0.0</td>\n      <td>0.0</td>\n    </tr>\n    <tr>\n      <th>3637</th>\n      <td>60.0</td>\n      <td>00:14:23</td>\n      <td>12/06/2018 00:00</td>\n      <td>00:50:33</td>\n      <td>00:49:45</td>\n      <td>1.0</td>\n      <td>60.0</td>\n      <td>7.0</td>\n      <td>United States</td>\n      <td>1.0</td>\n      <td>598.000000</td>\n      <td>2.0</td>\n      <td>0.0</td>\n      <td>4.0</td>\n      <td>0.0</td>\n      <td>9.0</td>\n    </tr>\n    <tr>\n      <th>...</th>\n      <td>...</td>\n      <td>...</td>\n      <td>...</td>\n      <td>...</td>\n      <td>...</td>\n      <td>...</td>\n      <td>...</td>\n      <td>...</td>\n      <td>...</td>\n      <td>...</td>\n      <td>...</td>\n      <td>...</td>\n      <td>...</td>\n      <td>...</td>\n      <td>...</td>\n      <td>...</td>\n    </tr>\n    <tr>\n      <th>19998</th>\n      <td>9652.0</td>\n      <td>00:24:55</td>\n      <td>12/25/2018 0:00</td>\n      <td>00:11:44</td>\n      <td>00:08:59</td>\n      <td>3.0</td>\n      <td>9569.0</td>\n      <td>7.0</td>\n      <td>Japan</td>\n      <td>2.0</td>\n      <td>391.000000</td>\n      <td>8.0</td>\n      <td>0.0</td>\n      <td>24.0</td>\n      <td>0.0</td>\n      <td>9.0</td>\n    </tr>\n    <tr>\n      <th>19999</th>\n      <td>9652.0</td>\n      <td>00:24:55</td>\n      <td>12/25/2018 0:00</td>\n      <td>00:11:44</td>\n      <td>00:08:59</td>\n      <td>3.0</td>\n      <td>9569.0</td>\n      <td>7.0</td>\n      <td>Japan</td>\n      <td>2.0</td>\n      <td>391.000000</td>\n      <td>8.0</td>\n      <td>0.0</td>\n      <td>24.0</td>\n      <td>0.0</td>\n      <td>9.0</td>\n    </tr>\n    <tr>\n      <th>20001</th>\n      <td>NaN</td>\n      <td>NaN</td>\n      <td>NaN</td>\n      <td>NaN</td>\n      <td>NaN</td>\n      <td>NaN</td>\n      <td>NaN</td>\n      <td>NaN</td>\n      <td>NaN</td>\n      <td>NaN</td>\n      <td>692.562918</td>\n      <td>NaN</td>\n      <td>NaN</td>\n      <td>NaN</td>\n      <td>NaN</td>\n      <td>NaN</td>\n    </tr>\n    <tr>\n      <th>20002</th>\n      <td>NaN</td>\n      <td>NaN</td>\n      <td>NaN</td>\n      <td>NaN</td>\n      <td>NaN</td>\n      <td>NaN</td>\n      <td>NaN</td>\n      <td>NaN</td>\n      <td>NaN</td>\n      <td>NaN</td>\n      <td>692.562918</td>\n      <td>NaN</td>\n      <td>NaN</td>\n      <td>NaN</td>\n      <td>NaN</td>\n      <td>NaN</td>\n    </tr>\n    <tr>\n      <th>20003</th>\n      <td>NaN</td>\n      <td>NaN</td>\n      <td>NaN</td>\n      <td>NaN</td>\n      <td>NaN</td>\n      <td>NaN</td>\n      <td>NaN</td>\n      <td>NaN</td>\n      <td>NaN</td>\n      <td>NaN</td>\n      <td>692.562918</td>\n      <td>NaN</td>\n      <td>NaN</td>\n      <td>NaN</td>\n      <td>NaN</td>\n      <td>NaN</td>\n    </tr>\n  </tbody>\n</table>\n<p>1050 rows × 16 columns</p>\n</div>"
     },
     "execution_count": 14,
     "metadata": {},
     "output_type": "execute_result"
    }
   ],
   "source": [
    "df.loc[df.\n",
    "       duplicated(), :]"
   ]
  },
  {
   "cell_type": "code",
   "execution_count": 15,
   "metadata": {
    "collapsed": false
   },
   "outputs": [],
   "source": [
    "df = df.drop_duplicates(keep=False)"
   ]
  },
  {
   "cell_type": "code",
   "execution_count": 16,
   "metadata": {
    "collapsed": false
   },
   "outputs": [
    {
     "name": "stdout",
     "output_type": "stream",
     "text": [
      "<class 'pandas.core.frame.DataFrame'>\n",
      "Int64Index: 18146 entries, 0 to 19993\n",
      "Data columns (total 16 columns):\n",
      " #   Column                Non-Null Count  Dtype  \n",
      "---  ------                --------------  -----  \n",
      " 0   case_nbr              18146 non-null  float64\n",
      " 1   created_dts           18146 non-null  object \n",
      " 2   created_date          18146 non-null  object \n",
      " 3   close_dts             18123 non-null  object \n",
      " 4   last_updated_dts      18146 non-null  object \n",
      " 5   contact_method        18146 non-null  float64\n",
      " 6   tag_id                18146 non-null  float64\n",
      " 7   prod_desc             18146 non-null  float64\n",
      " 8   country_name_dawn     17602 non-null  object \n",
      " 9   contact_method_name   18146 non-null  float64\n",
      " 10  system_age            18146 non-null  float64\n",
      " 11  total_inbounf_count   17911 non-null  float64\n",
      " 12  commodity_desc        18146 non-null  float64\n",
      " 13  total_activity_count  16515 non-null  float64\n",
      " 14  warranty_status       18146 non-null  float64\n",
      " 15  new_warranty_type     18146 non-null  float64\n",
      "dtypes: float64(11), object(5)\n",
      "memory usage: 2.4+ MB\n"
     ]
    }
   ],
   "source": [
    "df.info()"
   ]
  },
  {
   "cell_type": "markdown",
   "metadata": {
    "collapsed": false
   },
   "source": [
    "## CONVERTING TO DATETIME + CREATING NEW COLUMN"
   ]
  },
  {
   "cell_type": "code",
   "execution_count": 17,
   "metadata": {
    "collapsed": false
   },
   "outputs": [],
   "source": [
    "dft = df.copy()\n",
    "dft[\"close_dts\"] = pd.to_datetime(df.close_dts, format=\"%H:%M:%S\", errors='raise')\n",
    "dft[\"close_dts\"] =dft[\"close_dts\"].dt.time"
   ]
  },
  {
   "cell_type": "code",
   "execution_count": 18,
   "metadata": {
    "collapsed": false
   },
   "outputs": [
    {
     "data": {
      "text/plain": "    case_nbr created_dts      created_date close_dts last_updated_dts  \\\n0        1.0    00:12:00  02/01/2019 00:00  00:57:26         00:46:57   \n1        2.0    00:11:48  02/06/2019 00:00  00:39:52         00:12:16   \n2        3.0    00:47:10  10/05/2018 00:00  00:35:51         00:35:06   \n3        4.0    00:52:45   11/14/2018 0:00  00:27:59         00:49:22   \n4        5.0    00:59:46  01/07/2019 00:00  00:57:15         00:31:51   \n5        6.0    00:06:11   10/31/2018 0:00  00:50:22         00:49:53   \n6        7.0    00:59:34    6/26/2018 0:00  00:21:25         00:21:53   \n7        8.0    00:34:37    8/15/2018 0:00  00:48:29         00:47:51   \n8        9.0    00:23:34  12/11/2018 00:00  00:02:56         00:02:34   \n10      11.0    00:21:12  10/11/2018 00:00  00:33:45         00:33:46   \n\n    contact_method  tag_id  prod_desc country_name_dawn  contact_method_name  \\\n0              2.0     1.0        8.0    United Kingdom                  0.0   \n1              3.0     2.0        4.0       New Zealand                  2.0   \n2              3.0     3.0        7.0     United States                  0.0   \n3              3.0     4.0        8.0     United States                  0.0   \n4              3.0     5.0       11.0     United States                  0.0   \n5              1.0     6.0        8.0             Japan                  1.0   \n6              3.0     7.0        8.0     United States                  0.0   \n7              3.0     8.0        8.0          Colombia                  0.0   \n8              3.0     9.0        7.0     United States                  0.0   \n10             3.0    11.0        8.0            Mexico                  0.0   \n\n     system_age  total_inbounf_count  commodity_desc  total_activity_count  \\\n0    677.000000                  4.0             1.0                   9.0   \n1   1738.000000                  3.0             1.0                   7.0   \n2    692.562918                  4.0             0.0                   8.0   \n3   1075.000000                  3.0             1.0                   5.0   \n4    138.000000                  3.0             0.0                   5.0   \n5   1799.000000                  2.0             1.0                   4.0   \n6    123.000000                  2.0             1.0                   3.0   \n7   1324.000000                  3.0             0.0                   4.0   \n8   1014.000000                  3.0             0.0                   5.0   \n10  1049.000000                  2.0             0.0                   NaN   \n\n    warranty_status  new_warranty_type  \n0               0.0                9.0  \n1               1.0                4.0  \n2               1.0                4.0  \n3               0.0                9.0  \n4               0.0                9.0  \n5               0.0                9.0  \n6               0.0                9.0  \n7               0.0                9.0  \n8               0.0                9.0  \n10              0.0                0.0  ",
      "text/html": "<div>\n<style scoped>\n    .dataframe tbody tr th:only-of-type {\n        vertical-align: middle;\n    }\n\n    .dataframe tbody tr th {\n        vertical-align: top;\n    }\n\n    .dataframe thead th {\n        text-align: right;\n    }\n</style>\n<table border=\"1\" class=\"dataframe\">\n  <thead>\n    <tr style=\"text-align: right;\">\n      <th></th>\n      <th>case_nbr</th>\n      <th>created_dts</th>\n      <th>created_date</th>\n      <th>close_dts</th>\n      <th>last_updated_dts</th>\n      <th>contact_method</th>\n      <th>tag_id</th>\n      <th>prod_desc</th>\n      <th>country_name_dawn</th>\n      <th>contact_method_name</th>\n      <th>system_age</th>\n      <th>total_inbounf_count</th>\n      <th>commodity_desc</th>\n      <th>total_activity_count</th>\n      <th>warranty_status</th>\n      <th>new_warranty_type</th>\n    </tr>\n  </thead>\n  <tbody>\n    <tr>\n      <th>0</th>\n      <td>1.0</td>\n      <td>00:12:00</td>\n      <td>02/01/2019 00:00</td>\n      <td>00:57:26</td>\n      <td>00:46:57</td>\n      <td>2.0</td>\n      <td>1.0</td>\n      <td>8.0</td>\n      <td>United Kingdom</td>\n      <td>0.0</td>\n      <td>677.000000</td>\n      <td>4.0</td>\n      <td>1.0</td>\n      <td>9.0</td>\n      <td>0.0</td>\n      <td>9.0</td>\n    </tr>\n    <tr>\n      <th>1</th>\n      <td>2.0</td>\n      <td>00:11:48</td>\n      <td>02/06/2019 00:00</td>\n      <td>00:39:52</td>\n      <td>00:12:16</td>\n      <td>3.0</td>\n      <td>2.0</td>\n      <td>4.0</td>\n      <td>New Zealand</td>\n      <td>2.0</td>\n      <td>1738.000000</td>\n      <td>3.0</td>\n      <td>1.0</td>\n      <td>7.0</td>\n      <td>1.0</td>\n      <td>4.0</td>\n    </tr>\n    <tr>\n      <th>2</th>\n      <td>3.0</td>\n      <td>00:47:10</td>\n      <td>10/05/2018 00:00</td>\n      <td>00:35:51</td>\n      <td>00:35:06</td>\n      <td>3.0</td>\n      <td>3.0</td>\n      <td>7.0</td>\n      <td>United States</td>\n      <td>0.0</td>\n      <td>692.562918</td>\n      <td>4.0</td>\n      <td>0.0</td>\n      <td>8.0</td>\n      <td>1.0</td>\n      <td>4.0</td>\n    </tr>\n    <tr>\n      <th>3</th>\n      <td>4.0</td>\n      <td>00:52:45</td>\n      <td>11/14/2018 0:00</td>\n      <td>00:27:59</td>\n      <td>00:49:22</td>\n      <td>3.0</td>\n      <td>4.0</td>\n      <td>8.0</td>\n      <td>United States</td>\n      <td>0.0</td>\n      <td>1075.000000</td>\n      <td>3.0</td>\n      <td>1.0</td>\n      <td>5.0</td>\n      <td>0.0</td>\n      <td>9.0</td>\n    </tr>\n    <tr>\n      <th>4</th>\n      <td>5.0</td>\n      <td>00:59:46</td>\n      <td>01/07/2019 00:00</td>\n      <td>00:57:15</td>\n      <td>00:31:51</td>\n      <td>3.0</td>\n      <td>5.0</td>\n      <td>11.0</td>\n      <td>United States</td>\n      <td>0.0</td>\n      <td>138.000000</td>\n      <td>3.0</td>\n      <td>0.0</td>\n      <td>5.0</td>\n      <td>0.0</td>\n      <td>9.0</td>\n    </tr>\n    <tr>\n      <th>5</th>\n      <td>6.0</td>\n      <td>00:06:11</td>\n      <td>10/31/2018 0:00</td>\n      <td>00:50:22</td>\n      <td>00:49:53</td>\n      <td>1.0</td>\n      <td>6.0</td>\n      <td>8.0</td>\n      <td>Japan</td>\n      <td>1.0</td>\n      <td>1799.000000</td>\n      <td>2.0</td>\n      <td>1.0</td>\n      <td>4.0</td>\n      <td>0.0</td>\n      <td>9.0</td>\n    </tr>\n    <tr>\n      <th>6</th>\n      <td>7.0</td>\n      <td>00:59:34</td>\n      <td>6/26/2018 0:00</td>\n      <td>00:21:25</td>\n      <td>00:21:53</td>\n      <td>3.0</td>\n      <td>7.0</td>\n      <td>8.0</td>\n      <td>United States</td>\n      <td>0.0</td>\n      <td>123.000000</td>\n      <td>2.0</td>\n      <td>1.0</td>\n      <td>3.0</td>\n      <td>0.0</td>\n      <td>9.0</td>\n    </tr>\n    <tr>\n      <th>7</th>\n      <td>8.0</td>\n      <td>00:34:37</td>\n      <td>8/15/2018 0:00</td>\n      <td>00:48:29</td>\n      <td>00:47:51</td>\n      <td>3.0</td>\n      <td>8.0</td>\n      <td>8.0</td>\n      <td>Colombia</td>\n      <td>0.0</td>\n      <td>1324.000000</td>\n      <td>3.0</td>\n      <td>0.0</td>\n      <td>4.0</td>\n      <td>0.0</td>\n      <td>9.0</td>\n    </tr>\n    <tr>\n      <th>8</th>\n      <td>9.0</td>\n      <td>00:23:34</td>\n      <td>12/11/2018 00:00</td>\n      <td>00:02:56</td>\n      <td>00:02:34</td>\n      <td>3.0</td>\n      <td>9.0</td>\n      <td>7.0</td>\n      <td>United States</td>\n      <td>0.0</td>\n      <td>1014.000000</td>\n      <td>3.0</td>\n      <td>0.0</td>\n      <td>5.0</td>\n      <td>0.0</td>\n      <td>9.0</td>\n    </tr>\n    <tr>\n      <th>10</th>\n      <td>11.0</td>\n      <td>00:21:12</td>\n      <td>10/11/2018 00:00</td>\n      <td>00:33:45</td>\n      <td>00:33:46</td>\n      <td>3.0</td>\n      <td>11.0</td>\n      <td>8.0</td>\n      <td>Mexico</td>\n      <td>0.0</td>\n      <td>1049.000000</td>\n      <td>2.0</td>\n      <td>0.0</td>\n      <td>NaN</td>\n      <td>0.0</td>\n      <td>0.0</td>\n    </tr>\n  </tbody>\n</table>\n</div>"
     },
     "execution_count": 18,
     "metadata": {},
     "output_type": "execute_result"
    }
   ],
   "source": [
    "dft.head(10)"
   ]
  },
  {
   "cell_type": "code",
   "execution_count": 19,
   "metadata": {
    "collapsed": false
   },
   "outputs": [],
   "source": [
    "dft[\"created_dts\"] = pd.to_datetime(df.created_dts, format = \"%H:%M:%S\" , errors='raise')\n",
    "dft[\"created_dts\"] =dft[\"created_dts\"].dt.time"
   ]
  },
  {
   "cell_type": "code",
   "execution_count": 20,
   "metadata": {
    "collapsed": false
   },
   "outputs": [
    {
     "data": {
      "text/plain": "    case_nbr created_dts      created_date close_dts last_updated_dts  \\\n0        1.0    00:12:00  02/01/2019 00:00  00:57:26         00:46:57   \n1        2.0    00:11:48  02/06/2019 00:00  00:39:52         00:12:16   \n2        3.0    00:47:10  10/05/2018 00:00  00:35:51         00:35:06   \n3        4.0    00:52:45   11/14/2018 0:00  00:27:59         00:49:22   \n4        5.0    00:59:46  01/07/2019 00:00  00:57:15         00:31:51   \n5        6.0    00:06:11   10/31/2018 0:00  00:50:22         00:49:53   \n6        7.0    00:59:34    6/26/2018 0:00  00:21:25         00:21:53   \n7        8.0    00:34:37    8/15/2018 0:00  00:48:29         00:47:51   \n8        9.0    00:23:34  12/11/2018 00:00  00:02:56         00:02:34   \n10      11.0    00:21:12  10/11/2018 00:00  00:33:45         00:33:46   \n\n    contact_method  tag_id  prod_desc country_name_dawn  contact_method_name  \\\n0              2.0     1.0        8.0    United Kingdom                  0.0   \n1              3.0     2.0        4.0       New Zealand                  2.0   \n2              3.0     3.0        7.0     United States                  0.0   \n3              3.0     4.0        8.0     United States                  0.0   \n4              3.0     5.0       11.0     United States                  0.0   \n5              1.0     6.0        8.0             Japan                  1.0   \n6              3.0     7.0        8.0     United States                  0.0   \n7              3.0     8.0        8.0          Colombia                  0.0   \n8              3.0     9.0        7.0     United States                  0.0   \n10             3.0    11.0        8.0            Mexico                  0.0   \n\n     system_age  total_inbounf_count  commodity_desc  total_activity_count  \\\n0    677.000000                  4.0             1.0                   9.0   \n1   1738.000000                  3.0             1.0                   7.0   \n2    692.562918                  4.0             0.0                   8.0   \n3   1075.000000                  3.0             1.0                   5.0   \n4    138.000000                  3.0             0.0                   5.0   \n5   1799.000000                  2.0             1.0                   4.0   \n6    123.000000                  2.0             1.0                   3.0   \n7   1324.000000                  3.0             0.0                   4.0   \n8   1014.000000                  3.0             0.0                   5.0   \n10  1049.000000                  2.0             0.0                   NaN   \n\n    warranty_status  new_warranty_type  \n0               0.0                9.0  \n1               1.0                4.0  \n2               1.0                4.0  \n3               0.0                9.0  \n4               0.0                9.0  \n5               0.0                9.0  \n6               0.0                9.0  \n7               0.0                9.0  \n8               0.0                9.0  \n10              0.0                0.0  ",
      "text/html": "<div>\n<style scoped>\n    .dataframe tbody tr th:only-of-type {\n        vertical-align: middle;\n    }\n\n    .dataframe tbody tr th {\n        vertical-align: top;\n    }\n\n    .dataframe thead th {\n        text-align: right;\n    }\n</style>\n<table border=\"1\" class=\"dataframe\">\n  <thead>\n    <tr style=\"text-align: right;\">\n      <th></th>\n      <th>case_nbr</th>\n      <th>created_dts</th>\n      <th>created_date</th>\n      <th>close_dts</th>\n      <th>last_updated_dts</th>\n      <th>contact_method</th>\n      <th>tag_id</th>\n      <th>prod_desc</th>\n      <th>country_name_dawn</th>\n      <th>contact_method_name</th>\n      <th>system_age</th>\n      <th>total_inbounf_count</th>\n      <th>commodity_desc</th>\n      <th>total_activity_count</th>\n      <th>warranty_status</th>\n      <th>new_warranty_type</th>\n    </tr>\n  </thead>\n  <tbody>\n    <tr>\n      <th>0</th>\n      <td>1.0</td>\n      <td>00:12:00</td>\n      <td>02/01/2019 00:00</td>\n      <td>00:57:26</td>\n      <td>00:46:57</td>\n      <td>2.0</td>\n      <td>1.0</td>\n      <td>8.0</td>\n      <td>United Kingdom</td>\n      <td>0.0</td>\n      <td>677.000000</td>\n      <td>4.0</td>\n      <td>1.0</td>\n      <td>9.0</td>\n      <td>0.0</td>\n      <td>9.0</td>\n    </tr>\n    <tr>\n      <th>1</th>\n      <td>2.0</td>\n      <td>00:11:48</td>\n      <td>02/06/2019 00:00</td>\n      <td>00:39:52</td>\n      <td>00:12:16</td>\n      <td>3.0</td>\n      <td>2.0</td>\n      <td>4.0</td>\n      <td>New Zealand</td>\n      <td>2.0</td>\n      <td>1738.000000</td>\n      <td>3.0</td>\n      <td>1.0</td>\n      <td>7.0</td>\n      <td>1.0</td>\n      <td>4.0</td>\n    </tr>\n    <tr>\n      <th>2</th>\n      <td>3.0</td>\n      <td>00:47:10</td>\n      <td>10/05/2018 00:00</td>\n      <td>00:35:51</td>\n      <td>00:35:06</td>\n      <td>3.0</td>\n      <td>3.0</td>\n      <td>7.0</td>\n      <td>United States</td>\n      <td>0.0</td>\n      <td>692.562918</td>\n      <td>4.0</td>\n      <td>0.0</td>\n      <td>8.0</td>\n      <td>1.0</td>\n      <td>4.0</td>\n    </tr>\n    <tr>\n      <th>3</th>\n      <td>4.0</td>\n      <td>00:52:45</td>\n      <td>11/14/2018 0:00</td>\n      <td>00:27:59</td>\n      <td>00:49:22</td>\n      <td>3.0</td>\n      <td>4.0</td>\n      <td>8.0</td>\n      <td>United States</td>\n      <td>0.0</td>\n      <td>1075.000000</td>\n      <td>3.0</td>\n      <td>1.0</td>\n      <td>5.0</td>\n      <td>0.0</td>\n      <td>9.0</td>\n    </tr>\n    <tr>\n      <th>4</th>\n      <td>5.0</td>\n      <td>00:59:46</td>\n      <td>01/07/2019 00:00</td>\n      <td>00:57:15</td>\n      <td>00:31:51</td>\n      <td>3.0</td>\n      <td>5.0</td>\n      <td>11.0</td>\n      <td>United States</td>\n      <td>0.0</td>\n      <td>138.000000</td>\n      <td>3.0</td>\n      <td>0.0</td>\n      <td>5.0</td>\n      <td>0.0</td>\n      <td>9.0</td>\n    </tr>\n    <tr>\n      <th>5</th>\n      <td>6.0</td>\n      <td>00:06:11</td>\n      <td>10/31/2018 0:00</td>\n      <td>00:50:22</td>\n      <td>00:49:53</td>\n      <td>1.0</td>\n      <td>6.0</td>\n      <td>8.0</td>\n      <td>Japan</td>\n      <td>1.0</td>\n      <td>1799.000000</td>\n      <td>2.0</td>\n      <td>1.0</td>\n      <td>4.0</td>\n      <td>0.0</td>\n      <td>9.0</td>\n    </tr>\n    <tr>\n      <th>6</th>\n      <td>7.0</td>\n      <td>00:59:34</td>\n      <td>6/26/2018 0:00</td>\n      <td>00:21:25</td>\n      <td>00:21:53</td>\n      <td>3.0</td>\n      <td>7.0</td>\n      <td>8.0</td>\n      <td>United States</td>\n      <td>0.0</td>\n      <td>123.000000</td>\n      <td>2.0</td>\n      <td>1.0</td>\n      <td>3.0</td>\n      <td>0.0</td>\n      <td>9.0</td>\n    </tr>\n    <tr>\n      <th>7</th>\n      <td>8.0</td>\n      <td>00:34:37</td>\n      <td>8/15/2018 0:00</td>\n      <td>00:48:29</td>\n      <td>00:47:51</td>\n      <td>3.0</td>\n      <td>8.0</td>\n      <td>8.0</td>\n      <td>Colombia</td>\n      <td>0.0</td>\n      <td>1324.000000</td>\n      <td>3.0</td>\n      <td>0.0</td>\n      <td>4.0</td>\n      <td>0.0</td>\n      <td>9.0</td>\n    </tr>\n    <tr>\n      <th>8</th>\n      <td>9.0</td>\n      <td>00:23:34</td>\n      <td>12/11/2018 00:00</td>\n      <td>00:02:56</td>\n      <td>00:02:34</td>\n      <td>3.0</td>\n      <td>9.0</td>\n      <td>7.0</td>\n      <td>United States</td>\n      <td>0.0</td>\n      <td>1014.000000</td>\n      <td>3.0</td>\n      <td>0.0</td>\n      <td>5.0</td>\n      <td>0.0</td>\n      <td>9.0</td>\n    </tr>\n    <tr>\n      <th>10</th>\n      <td>11.0</td>\n      <td>00:21:12</td>\n      <td>10/11/2018 00:00</td>\n      <td>00:33:45</td>\n      <td>00:33:46</td>\n      <td>3.0</td>\n      <td>11.0</td>\n      <td>8.0</td>\n      <td>Mexico</td>\n      <td>0.0</td>\n      <td>1049.000000</td>\n      <td>2.0</td>\n      <td>0.0</td>\n      <td>NaN</td>\n      <td>0.0</td>\n      <td>0.0</td>\n    </tr>\n  </tbody>\n</table>\n</div>"
     },
     "execution_count": 20,
     "metadata": {},
     "output_type": "execute_result"
    }
   ],
   "source": [
    "dft.head(10\n",
    "        )"
   ]
  },
  {
   "cell_type": "code",
   "execution_count": 21,
   "metadata": {
    "collapsed": false
   },
   "outputs": [],
   "source": [
    "\n",
    "df[\"created_date\"] = pd.to_datetime(df.created_date, format = \"%m/%d/%Y %H:%M\" , errors='raise')\n"
   ]
  },
  {
   "cell_type": "markdown",
   "metadata": {
    "collapsed": false
   },
   "source": [
    "## DEALING WITH MISSING DATA"
   ]
  },
  {
   "cell_type": "code",
   "execution_count": 22,
   "metadata": {
    "collapsed": false
   },
   "outputs": [
    {
     "data": {
      "text/plain": "    case_nbr created_dts created_date close_dts last_updated_dts  \\\n0        1.0    00:12:00   2019-02-01  00:57:26         00:46:57   \n1        2.0    00:11:48   2019-02-06  00:39:52         00:12:16   \n2        3.0    00:47:10   2018-10-05  00:35:51         00:35:06   \n3        4.0    00:52:45   2018-11-14  00:27:59         00:49:22   \n4        5.0    00:59:46   2019-01-07  00:57:15         00:31:51   \n5        6.0    00:06:11   2018-10-31  00:50:22         00:49:53   \n6        7.0    00:59:34   2018-06-26  00:21:25         00:21:53   \n7        8.0    00:34:37   2018-08-15  00:48:29         00:47:51   \n8        9.0    00:23:34   2018-12-11  00:02:56         00:02:34   \n10      11.0    00:21:12   2018-10-11  00:33:45         00:33:46   \n\n    contact_method  tag_id  prod_desc country_name_dawn  contact_method_name  \\\n0              2.0     1.0        8.0    United Kingdom                  0.0   \n1              3.0     2.0        4.0       New Zealand                  2.0   \n2              3.0     3.0        7.0     United States                  0.0   \n3              3.0     4.0        8.0     United States                  0.0   \n4              3.0     5.0       11.0     United States                  0.0   \n5              1.0     6.0        8.0             Japan                  1.0   \n6              3.0     7.0        8.0     United States                  0.0   \n7              3.0     8.0        8.0          Colombia                  0.0   \n8              3.0     9.0        7.0     United States                  0.0   \n10             3.0    11.0        8.0            Mexico                  0.0   \n\n     system_age  total_inbounf_count  commodity_desc  total_activity_count  \\\n0    677.000000                  4.0             1.0                   9.0   \n1   1738.000000                  3.0             1.0                   7.0   \n2    692.562918                  4.0             0.0                   8.0   \n3   1075.000000                  3.0             1.0                   5.0   \n4    138.000000                  3.0             0.0                   5.0   \n5   1799.000000                  2.0             1.0                   4.0   \n6    123.000000                  2.0             1.0                   3.0   \n7   1324.000000                  3.0             0.0                   4.0   \n8   1014.000000                  3.0             0.0                   5.0   \n10  1049.000000                  2.0             0.0                   NaN   \n\n    warranty_status  new_warranty_type  \n0               0.0                9.0  \n1               1.0                4.0  \n2               1.0                4.0  \n3               0.0                9.0  \n4               0.0                9.0  \n5               0.0                9.0  \n6               0.0                9.0  \n7               0.0                9.0  \n8               0.0                9.0  \n10              0.0                0.0  ",
      "text/html": "<div>\n<style scoped>\n    .dataframe tbody tr th:only-of-type {\n        vertical-align: middle;\n    }\n\n    .dataframe tbody tr th {\n        vertical-align: top;\n    }\n\n    .dataframe thead th {\n        text-align: right;\n    }\n</style>\n<table border=\"1\" class=\"dataframe\">\n  <thead>\n    <tr style=\"text-align: right;\">\n      <th></th>\n      <th>case_nbr</th>\n      <th>created_dts</th>\n      <th>created_date</th>\n      <th>close_dts</th>\n      <th>last_updated_dts</th>\n      <th>contact_method</th>\n      <th>tag_id</th>\n      <th>prod_desc</th>\n      <th>country_name_dawn</th>\n      <th>contact_method_name</th>\n      <th>system_age</th>\n      <th>total_inbounf_count</th>\n      <th>commodity_desc</th>\n      <th>total_activity_count</th>\n      <th>warranty_status</th>\n      <th>new_warranty_type</th>\n    </tr>\n  </thead>\n  <tbody>\n    <tr>\n      <th>0</th>\n      <td>1.0</td>\n      <td>00:12:00</td>\n      <td>2019-02-01</td>\n      <td>00:57:26</td>\n      <td>00:46:57</td>\n      <td>2.0</td>\n      <td>1.0</td>\n      <td>8.0</td>\n      <td>United Kingdom</td>\n      <td>0.0</td>\n      <td>677.000000</td>\n      <td>4.0</td>\n      <td>1.0</td>\n      <td>9.0</td>\n      <td>0.0</td>\n      <td>9.0</td>\n    </tr>\n    <tr>\n      <th>1</th>\n      <td>2.0</td>\n      <td>00:11:48</td>\n      <td>2019-02-06</td>\n      <td>00:39:52</td>\n      <td>00:12:16</td>\n      <td>3.0</td>\n      <td>2.0</td>\n      <td>4.0</td>\n      <td>New Zealand</td>\n      <td>2.0</td>\n      <td>1738.000000</td>\n      <td>3.0</td>\n      <td>1.0</td>\n      <td>7.0</td>\n      <td>1.0</td>\n      <td>4.0</td>\n    </tr>\n    <tr>\n      <th>2</th>\n      <td>3.0</td>\n      <td>00:47:10</td>\n      <td>2018-10-05</td>\n      <td>00:35:51</td>\n      <td>00:35:06</td>\n      <td>3.0</td>\n      <td>3.0</td>\n      <td>7.0</td>\n      <td>United States</td>\n      <td>0.0</td>\n      <td>692.562918</td>\n      <td>4.0</td>\n      <td>0.0</td>\n      <td>8.0</td>\n      <td>1.0</td>\n      <td>4.0</td>\n    </tr>\n    <tr>\n      <th>3</th>\n      <td>4.0</td>\n      <td>00:52:45</td>\n      <td>2018-11-14</td>\n      <td>00:27:59</td>\n      <td>00:49:22</td>\n      <td>3.0</td>\n      <td>4.0</td>\n      <td>8.0</td>\n      <td>United States</td>\n      <td>0.0</td>\n      <td>1075.000000</td>\n      <td>3.0</td>\n      <td>1.0</td>\n      <td>5.0</td>\n      <td>0.0</td>\n      <td>9.0</td>\n    </tr>\n    <tr>\n      <th>4</th>\n      <td>5.0</td>\n      <td>00:59:46</td>\n      <td>2019-01-07</td>\n      <td>00:57:15</td>\n      <td>00:31:51</td>\n      <td>3.0</td>\n      <td>5.0</td>\n      <td>11.0</td>\n      <td>United States</td>\n      <td>0.0</td>\n      <td>138.000000</td>\n      <td>3.0</td>\n      <td>0.0</td>\n      <td>5.0</td>\n      <td>0.0</td>\n      <td>9.0</td>\n    </tr>\n    <tr>\n      <th>5</th>\n      <td>6.0</td>\n      <td>00:06:11</td>\n      <td>2018-10-31</td>\n      <td>00:50:22</td>\n      <td>00:49:53</td>\n      <td>1.0</td>\n      <td>6.0</td>\n      <td>8.0</td>\n      <td>Japan</td>\n      <td>1.0</td>\n      <td>1799.000000</td>\n      <td>2.0</td>\n      <td>1.0</td>\n      <td>4.0</td>\n      <td>0.0</td>\n      <td>9.0</td>\n    </tr>\n    <tr>\n      <th>6</th>\n      <td>7.0</td>\n      <td>00:59:34</td>\n      <td>2018-06-26</td>\n      <td>00:21:25</td>\n      <td>00:21:53</td>\n      <td>3.0</td>\n      <td>7.0</td>\n      <td>8.0</td>\n      <td>United States</td>\n      <td>0.0</td>\n      <td>123.000000</td>\n      <td>2.0</td>\n      <td>1.0</td>\n      <td>3.0</td>\n      <td>0.0</td>\n      <td>9.0</td>\n    </tr>\n    <tr>\n      <th>7</th>\n      <td>8.0</td>\n      <td>00:34:37</td>\n      <td>2018-08-15</td>\n      <td>00:48:29</td>\n      <td>00:47:51</td>\n      <td>3.0</td>\n      <td>8.0</td>\n      <td>8.0</td>\n      <td>Colombia</td>\n      <td>0.0</td>\n      <td>1324.000000</td>\n      <td>3.0</td>\n      <td>0.0</td>\n      <td>4.0</td>\n      <td>0.0</td>\n      <td>9.0</td>\n    </tr>\n    <tr>\n      <th>8</th>\n      <td>9.0</td>\n      <td>00:23:34</td>\n      <td>2018-12-11</td>\n      <td>00:02:56</td>\n      <td>00:02:34</td>\n      <td>3.0</td>\n      <td>9.0</td>\n      <td>7.0</td>\n      <td>United States</td>\n      <td>0.0</td>\n      <td>1014.000000</td>\n      <td>3.0</td>\n      <td>0.0</td>\n      <td>5.0</td>\n      <td>0.0</td>\n      <td>9.0</td>\n    </tr>\n    <tr>\n      <th>10</th>\n      <td>11.0</td>\n      <td>00:21:12</td>\n      <td>2018-10-11</td>\n      <td>00:33:45</td>\n      <td>00:33:46</td>\n      <td>3.0</td>\n      <td>11.0</td>\n      <td>8.0</td>\n      <td>Mexico</td>\n      <td>0.0</td>\n      <td>1049.000000</td>\n      <td>2.0</td>\n      <td>0.0</td>\n      <td>NaN</td>\n      <td>0.0</td>\n      <td>0.0</td>\n    </tr>\n  </tbody>\n</table>\n</div>"
     },
     "execution_count": 22,
     "metadata": {},
     "output_type": "execute_result"
    }
   ],
   "source": [
    "df.head(10)\n"
   ]
  },
  {
   "cell_type": "code",
   "execution_count": 23,
   "metadata": {
    "collapsed": false
   },
   "outputs": [],
   "source": [
    "\n",
    "df[\"created_dts\"] = pd.to_datetime(df.created_dts, format = \"%H:%M:%S\" , errors='raise')\n",
    "df[\"close_dts\"] = pd.to_datetime(df.close_dts, format=\"%H:%M:%S\", errors='raise')\n"
   ]
  },
  {
   "cell_type": "code",
   "execution_count": 24,
   "metadata": {
    "collapsed": false
   },
   "outputs": [
    {
     "name": "stderr",
     "output_type": "stream",
     "text": [
      "/var/folders/5p/hj6g32gj0_700q3tgctb49fh0000gn/T/ipykernel_54441/3601295595.py:2: SettingWithCopyWarning: \n",
      "A value is trying to be set on a copy of a slice from a DataFrame\n",
      "\n",
      "See the caveats in the documentation: https://pandas.pydata.org/pandas-docs/stable/user_guide/indexing.html#returning-a-view-versus-a-copy\n",
      "  df.journey_time[df['journey_time'].dt.days != 0] = None\n"
     ]
    }
   ],
   "source": [
    "df['journey_time'] = df['close_dts'] - df[\"created_dts\"]\n",
    "df.journey_time[df['journey_time'].dt.days != 0] = None"
   ]
  },
  {
   "cell_type": "code",
   "execution_count": 25,
   "metadata": {
    "collapsed": false
   },
   "outputs": [
    {
     "data": {
      "text/plain": "    case_nbr         created_dts created_date           close_dts  \\\n0        1.0 1900-01-01 00:12:00   2019-02-01 1900-01-01 00:57:26   \n1        2.0 1900-01-01 00:11:48   2019-02-06 1900-01-01 00:39:52   \n2        3.0 1900-01-01 00:47:10   2018-10-05 1900-01-01 00:35:51   \n3        4.0 1900-01-01 00:52:45   2018-11-14 1900-01-01 00:27:59   \n4        5.0 1900-01-01 00:59:46   2019-01-07 1900-01-01 00:57:15   \n5        6.0 1900-01-01 00:06:11   2018-10-31 1900-01-01 00:50:22   \n6        7.0 1900-01-01 00:59:34   2018-06-26 1900-01-01 00:21:25   \n7        8.0 1900-01-01 00:34:37   2018-08-15 1900-01-01 00:48:29   \n8        9.0 1900-01-01 00:23:34   2018-12-11 1900-01-01 00:02:56   \n10      11.0 1900-01-01 00:21:12   2018-10-11 1900-01-01 00:33:45   \n\n   last_updated_dts  contact_method  tag_id  prod_desc country_name_dawn  \\\n0          00:46:57             2.0     1.0        8.0    United Kingdom   \n1          00:12:16             3.0     2.0        4.0       New Zealand   \n2          00:35:06             3.0     3.0        7.0     United States   \n3          00:49:22             3.0     4.0        8.0     United States   \n4          00:31:51             3.0     5.0       11.0     United States   \n5          00:49:53             1.0     6.0        8.0             Japan   \n6          00:21:53             3.0     7.0        8.0     United States   \n7          00:47:51             3.0     8.0        8.0          Colombia   \n8          00:02:34             3.0     9.0        7.0     United States   \n10         00:33:46             3.0    11.0        8.0            Mexico   \n\n    contact_method_name   system_age  total_inbounf_count  commodity_desc  \\\n0                   0.0   677.000000                  4.0             1.0   \n1                   2.0  1738.000000                  3.0             1.0   \n2                   0.0   692.562918                  4.0             0.0   \n3                   0.0  1075.000000                  3.0             1.0   \n4                   0.0   138.000000                  3.0             0.0   \n5                   1.0  1799.000000                  2.0             1.0   \n6                   0.0   123.000000                  2.0             1.0   \n7                   0.0  1324.000000                  3.0             0.0   \n8                   0.0  1014.000000                  3.0             0.0   \n10                  0.0  1049.000000                  2.0             0.0   \n\n    total_activity_count  warranty_status  new_warranty_type    journey_time  \n0                    9.0              0.0                9.0 0 days 00:45:26  \n1                    7.0              1.0                4.0 0 days 00:28:04  \n2                    8.0              1.0                4.0             NaT  \n3                    5.0              0.0                9.0             NaT  \n4                    5.0              0.0                9.0             NaT  \n5                    4.0              0.0                9.0 0 days 00:44:11  \n6                    3.0              0.0                9.0             NaT  \n7                    4.0              0.0                9.0 0 days 00:13:52  \n8                    5.0              0.0                9.0             NaT  \n10                   NaN              0.0                0.0 0 days 00:12:33  ",
      "text/html": "<div>\n<style scoped>\n    .dataframe tbody tr th:only-of-type {\n        vertical-align: middle;\n    }\n\n    .dataframe tbody tr th {\n        vertical-align: top;\n    }\n\n    .dataframe thead th {\n        text-align: right;\n    }\n</style>\n<table border=\"1\" class=\"dataframe\">\n  <thead>\n    <tr style=\"text-align: right;\">\n      <th></th>\n      <th>case_nbr</th>\n      <th>created_dts</th>\n      <th>created_date</th>\n      <th>close_dts</th>\n      <th>last_updated_dts</th>\n      <th>contact_method</th>\n      <th>tag_id</th>\n      <th>prod_desc</th>\n      <th>country_name_dawn</th>\n      <th>contact_method_name</th>\n      <th>system_age</th>\n      <th>total_inbounf_count</th>\n      <th>commodity_desc</th>\n      <th>total_activity_count</th>\n      <th>warranty_status</th>\n      <th>new_warranty_type</th>\n      <th>journey_time</th>\n    </tr>\n  </thead>\n  <tbody>\n    <tr>\n      <th>0</th>\n      <td>1.0</td>\n      <td>1900-01-01 00:12:00</td>\n      <td>2019-02-01</td>\n      <td>1900-01-01 00:57:26</td>\n      <td>00:46:57</td>\n      <td>2.0</td>\n      <td>1.0</td>\n      <td>8.0</td>\n      <td>United Kingdom</td>\n      <td>0.0</td>\n      <td>677.000000</td>\n      <td>4.0</td>\n      <td>1.0</td>\n      <td>9.0</td>\n      <td>0.0</td>\n      <td>9.0</td>\n      <td>0 days 00:45:26</td>\n    </tr>\n    <tr>\n      <th>1</th>\n      <td>2.0</td>\n      <td>1900-01-01 00:11:48</td>\n      <td>2019-02-06</td>\n      <td>1900-01-01 00:39:52</td>\n      <td>00:12:16</td>\n      <td>3.0</td>\n      <td>2.0</td>\n      <td>4.0</td>\n      <td>New Zealand</td>\n      <td>2.0</td>\n      <td>1738.000000</td>\n      <td>3.0</td>\n      <td>1.0</td>\n      <td>7.0</td>\n      <td>1.0</td>\n      <td>4.0</td>\n      <td>0 days 00:28:04</td>\n    </tr>\n    <tr>\n      <th>2</th>\n      <td>3.0</td>\n      <td>1900-01-01 00:47:10</td>\n      <td>2018-10-05</td>\n      <td>1900-01-01 00:35:51</td>\n      <td>00:35:06</td>\n      <td>3.0</td>\n      <td>3.0</td>\n      <td>7.0</td>\n      <td>United States</td>\n      <td>0.0</td>\n      <td>692.562918</td>\n      <td>4.0</td>\n      <td>0.0</td>\n      <td>8.0</td>\n      <td>1.0</td>\n      <td>4.0</td>\n      <td>NaT</td>\n    </tr>\n    <tr>\n      <th>3</th>\n      <td>4.0</td>\n      <td>1900-01-01 00:52:45</td>\n      <td>2018-11-14</td>\n      <td>1900-01-01 00:27:59</td>\n      <td>00:49:22</td>\n      <td>3.0</td>\n      <td>4.0</td>\n      <td>8.0</td>\n      <td>United States</td>\n      <td>0.0</td>\n      <td>1075.000000</td>\n      <td>3.0</td>\n      <td>1.0</td>\n      <td>5.0</td>\n      <td>0.0</td>\n      <td>9.0</td>\n      <td>NaT</td>\n    </tr>\n    <tr>\n      <th>4</th>\n      <td>5.0</td>\n      <td>1900-01-01 00:59:46</td>\n      <td>2019-01-07</td>\n      <td>1900-01-01 00:57:15</td>\n      <td>00:31:51</td>\n      <td>3.0</td>\n      <td>5.0</td>\n      <td>11.0</td>\n      <td>United States</td>\n      <td>0.0</td>\n      <td>138.000000</td>\n      <td>3.0</td>\n      <td>0.0</td>\n      <td>5.0</td>\n      <td>0.0</td>\n      <td>9.0</td>\n      <td>NaT</td>\n    </tr>\n    <tr>\n      <th>5</th>\n      <td>6.0</td>\n      <td>1900-01-01 00:06:11</td>\n      <td>2018-10-31</td>\n      <td>1900-01-01 00:50:22</td>\n      <td>00:49:53</td>\n      <td>1.0</td>\n      <td>6.0</td>\n      <td>8.0</td>\n      <td>Japan</td>\n      <td>1.0</td>\n      <td>1799.000000</td>\n      <td>2.0</td>\n      <td>1.0</td>\n      <td>4.0</td>\n      <td>0.0</td>\n      <td>9.0</td>\n      <td>0 days 00:44:11</td>\n    </tr>\n    <tr>\n      <th>6</th>\n      <td>7.0</td>\n      <td>1900-01-01 00:59:34</td>\n      <td>2018-06-26</td>\n      <td>1900-01-01 00:21:25</td>\n      <td>00:21:53</td>\n      <td>3.0</td>\n      <td>7.0</td>\n      <td>8.0</td>\n      <td>United States</td>\n      <td>0.0</td>\n      <td>123.000000</td>\n      <td>2.0</td>\n      <td>1.0</td>\n      <td>3.0</td>\n      <td>0.0</td>\n      <td>9.0</td>\n      <td>NaT</td>\n    </tr>\n    <tr>\n      <th>7</th>\n      <td>8.0</td>\n      <td>1900-01-01 00:34:37</td>\n      <td>2018-08-15</td>\n      <td>1900-01-01 00:48:29</td>\n      <td>00:47:51</td>\n      <td>3.0</td>\n      <td>8.0</td>\n      <td>8.0</td>\n      <td>Colombia</td>\n      <td>0.0</td>\n      <td>1324.000000</td>\n      <td>3.0</td>\n      <td>0.0</td>\n      <td>4.0</td>\n      <td>0.0</td>\n      <td>9.0</td>\n      <td>0 days 00:13:52</td>\n    </tr>\n    <tr>\n      <th>8</th>\n      <td>9.0</td>\n      <td>1900-01-01 00:23:34</td>\n      <td>2018-12-11</td>\n      <td>1900-01-01 00:02:56</td>\n      <td>00:02:34</td>\n      <td>3.0</td>\n      <td>9.0</td>\n      <td>7.0</td>\n      <td>United States</td>\n      <td>0.0</td>\n      <td>1014.000000</td>\n      <td>3.0</td>\n      <td>0.0</td>\n      <td>5.0</td>\n      <td>0.0</td>\n      <td>9.0</td>\n      <td>NaT</td>\n    </tr>\n    <tr>\n      <th>10</th>\n      <td>11.0</td>\n      <td>1900-01-01 00:21:12</td>\n      <td>2018-10-11</td>\n      <td>1900-01-01 00:33:45</td>\n      <td>00:33:46</td>\n      <td>3.0</td>\n      <td>11.0</td>\n      <td>8.0</td>\n      <td>Mexico</td>\n      <td>0.0</td>\n      <td>1049.000000</td>\n      <td>2.0</td>\n      <td>0.0</td>\n      <td>NaN</td>\n      <td>0.0</td>\n      <td>0.0</td>\n      <td>0 days 00:12:33</td>\n    </tr>\n  </tbody>\n</table>\n</div>"
     },
     "execution_count": 25,
     "metadata": {},
     "output_type": "execute_result"
    }
   ],
   "source": [
    "df.head(10)"
   ]
  },
  {
   "cell_type": "code",
   "execution_count": 26,
   "metadata": {
    "collapsed": false
   },
   "outputs": [
    {
     "data": {
      "text/plain": "    case_nbr         created_dts created_date           close_dts  \\\n0        1.0 1900-01-01 00:12:00   2019-02-01 1900-01-01 00:57:26   \n1        2.0 1900-01-01 00:11:48   2019-02-06 1900-01-01 00:39:52   \n2        3.0 1900-01-01 00:47:10   2018-10-05 1900-01-01 00:35:51   \n3        4.0 1900-01-01 00:52:45   2018-11-14 1900-01-01 00:27:59   \n4        5.0 1900-01-01 00:59:46   2019-01-07 1900-01-01 00:57:15   \n5        6.0 1900-01-01 00:06:11   2018-10-31 1900-01-01 00:50:22   \n6        7.0 1900-01-01 00:59:34   2018-06-26 1900-01-01 00:21:25   \n7        8.0 1900-01-01 00:34:37   2018-08-15 1900-01-01 00:48:29   \n8        9.0 1900-01-01 00:23:34   2018-12-11 1900-01-01 00:02:56   \n10      11.0 1900-01-01 00:21:12   2018-10-11 1900-01-01 00:33:45   \n\n   last_updated_dts  contact_method  tag_id  prod_desc country_name_dawn  \\\n0          00:46:57             2.0     1.0        8.0    United Kingdom   \n1          00:12:16             3.0     2.0        4.0       New Zealand   \n2          00:35:06             3.0     3.0        7.0     United States   \n3          00:49:22             3.0     4.0        8.0     United States   \n4          00:31:51             3.0     5.0       11.0     United States   \n5          00:49:53             1.0     6.0        8.0             Japan   \n6          00:21:53             3.0     7.0        8.0     United States   \n7          00:47:51             3.0     8.0        8.0          Colombia   \n8          00:02:34             3.0     9.0        7.0     United States   \n10         00:33:46             3.0    11.0        8.0            Mexico   \n\n    contact_method_name   system_age  total_inbounf_count  commodity_desc  \\\n0                   0.0   677.000000                  4.0             1.0   \n1                   2.0  1738.000000                  3.0             1.0   \n2                   0.0   692.562918                  4.0             0.0   \n3                   0.0  1075.000000                  3.0             1.0   \n4                   0.0   138.000000                  3.0             0.0   \n5                   1.0  1799.000000                  2.0             1.0   \n6                   0.0   123.000000                  2.0             1.0   \n7                   0.0  1324.000000                  3.0             0.0   \n8                   0.0  1014.000000                  3.0             0.0   \n10                  0.0  1049.000000                  2.0             0.0   \n\n    total_activity_count  warranty_status  new_warranty_type    journey_time  \\\n0                    9.0              0.0                9.0 0 days 00:45:26   \n1                    7.0              1.0                4.0 0 days 00:28:04   \n2                    8.0              1.0                4.0             NaT   \n3                    5.0              0.0                9.0             NaT   \n4                    5.0              0.0                9.0             NaT   \n5                    4.0              0.0                9.0 0 days 00:44:11   \n6                    3.0              0.0                9.0             NaT   \n7                    4.0              0.0                9.0 0 days 00:13:52   \n8                    5.0              0.0                9.0             NaT   \n10                   NaN              0.0                0.0 0 days 00:12:33   \n\n    seconds  \n0    2726.0  \n1    1684.0  \n2       NaN  \n3       NaN  \n4       NaN  \n5    2651.0  \n6       NaN  \n7     832.0  \n8       NaN  \n10    753.0  ",
      "text/html": "<div>\n<style scoped>\n    .dataframe tbody tr th:only-of-type {\n        vertical-align: middle;\n    }\n\n    .dataframe tbody tr th {\n        vertical-align: top;\n    }\n\n    .dataframe thead th {\n        text-align: right;\n    }\n</style>\n<table border=\"1\" class=\"dataframe\">\n  <thead>\n    <tr style=\"text-align: right;\">\n      <th></th>\n      <th>case_nbr</th>\n      <th>created_dts</th>\n      <th>created_date</th>\n      <th>close_dts</th>\n      <th>last_updated_dts</th>\n      <th>contact_method</th>\n      <th>tag_id</th>\n      <th>prod_desc</th>\n      <th>country_name_dawn</th>\n      <th>contact_method_name</th>\n      <th>system_age</th>\n      <th>total_inbounf_count</th>\n      <th>commodity_desc</th>\n      <th>total_activity_count</th>\n      <th>warranty_status</th>\n      <th>new_warranty_type</th>\n      <th>journey_time</th>\n      <th>seconds</th>\n    </tr>\n  </thead>\n  <tbody>\n    <tr>\n      <th>0</th>\n      <td>1.0</td>\n      <td>1900-01-01 00:12:00</td>\n      <td>2019-02-01</td>\n      <td>1900-01-01 00:57:26</td>\n      <td>00:46:57</td>\n      <td>2.0</td>\n      <td>1.0</td>\n      <td>8.0</td>\n      <td>United Kingdom</td>\n      <td>0.0</td>\n      <td>677.000000</td>\n      <td>4.0</td>\n      <td>1.0</td>\n      <td>9.0</td>\n      <td>0.0</td>\n      <td>9.0</td>\n      <td>0 days 00:45:26</td>\n      <td>2726.0</td>\n    </tr>\n    <tr>\n      <th>1</th>\n      <td>2.0</td>\n      <td>1900-01-01 00:11:48</td>\n      <td>2019-02-06</td>\n      <td>1900-01-01 00:39:52</td>\n      <td>00:12:16</td>\n      <td>3.0</td>\n      <td>2.0</td>\n      <td>4.0</td>\n      <td>New Zealand</td>\n      <td>2.0</td>\n      <td>1738.000000</td>\n      <td>3.0</td>\n      <td>1.0</td>\n      <td>7.0</td>\n      <td>1.0</td>\n      <td>4.0</td>\n      <td>0 days 00:28:04</td>\n      <td>1684.0</td>\n    </tr>\n    <tr>\n      <th>2</th>\n      <td>3.0</td>\n      <td>1900-01-01 00:47:10</td>\n      <td>2018-10-05</td>\n      <td>1900-01-01 00:35:51</td>\n      <td>00:35:06</td>\n      <td>3.0</td>\n      <td>3.0</td>\n      <td>7.0</td>\n      <td>United States</td>\n      <td>0.0</td>\n      <td>692.562918</td>\n      <td>4.0</td>\n      <td>0.0</td>\n      <td>8.0</td>\n      <td>1.0</td>\n      <td>4.0</td>\n      <td>NaT</td>\n      <td>NaN</td>\n    </tr>\n    <tr>\n      <th>3</th>\n      <td>4.0</td>\n      <td>1900-01-01 00:52:45</td>\n      <td>2018-11-14</td>\n      <td>1900-01-01 00:27:59</td>\n      <td>00:49:22</td>\n      <td>3.0</td>\n      <td>4.0</td>\n      <td>8.0</td>\n      <td>United States</td>\n      <td>0.0</td>\n      <td>1075.000000</td>\n      <td>3.0</td>\n      <td>1.0</td>\n      <td>5.0</td>\n      <td>0.0</td>\n      <td>9.0</td>\n      <td>NaT</td>\n      <td>NaN</td>\n    </tr>\n    <tr>\n      <th>4</th>\n      <td>5.0</td>\n      <td>1900-01-01 00:59:46</td>\n      <td>2019-01-07</td>\n      <td>1900-01-01 00:57:15</td>\n      <td>00:31:51</td>\n      <td>3.0</td>\n      <td>5.0</td>\n      <td>11.0</td>\n      <td>United States</td>\n      <td>0.0</td>\n      <td>138.000000</td>\n      <td>3.0</td>\n      <td>0.0</td>\n      <td>5.0</td>\n      <td>0.0</td>\n      <td>9.0</td>\n      <td>NaT</td>\n      <td>NaN</td>\n    </tr>\n    <tr>\n      <th>5</th>\n      <td>6.0</td>\n      <td>1900-01-01 00:06:11</td>\n      <td>2018-10-31</td>\n      <td>1900-01-01 00:50:22</td>\n      <td>00:49:53</td>\n      <td>1.0</td>\n      <td>6.0</td>\n      <td>8.0</td>\n      <td>Japan</td>\n      <td>1.0</td>\n      <td>1799.000000</td>\n      <td>2.0</td>\n      <td>1.0</td>\n      <td>4.0</td>\n      <td>0.0</td>\n      <td>9.0</td>\n      <td>0 days 00:44:11</td>\n      <td>2651.0</td>\n    </tr>\n    <tr>\n      <th>6</th>\n      <td>7.0</td>\n      <td>1900-01-01 00:59:34</td>\n      <td>2018-06-26</td>\n      <td>1900-01-01 00:21:25</td>\n      <td>00:21:53</td>\n      <td>3.0</td>\n      <td>7.0</td>\n      <td>8.0</td>\n      <td>United States</td>\n      <td>0.0</td>\n      <td>123.000000</td>\n      <td>2.0</td>\n      <td>1.0</td>\n      <td>3.0</td>\n      <td>0.0</td>\n      <td>9.0</td>\n      <td>NaT</td>\n      <td>NaN</td>\n    </tr>\n    <tr>\n      <th>7</th>\n      <td>8.0</td>\n      <td>1900-01-01 00:34:37</td>\n      <td>2018-08-15</td>\n      <td>1900-01-01 00:48:29</td>\n      <td>00:47:51</td>\n      <td>3.0</td>\n      <td>8.0</td>\n      <td>8.0</td>\n      <td>Colombia</td>\n      <td>0.0</td>\n      <td>1324.000000</td>\n      <td>3.0</td>\n      <td>0.0</td>\n      <td>4.0</td>\n      <td>0.0</td>\n      <td>9.0</td>\n      <td>0 days 00:13:52</td>\n      <td>832.0</td>\n    </tr>\n    <tr>\n      <th>8</th>\n      <td>9.0</td>\n      <td>1900-01-01 00:23:34</td>\n      <td>2018-12-11</td>\n      <td>1900-01-01 00:02:56</td>\n      <td>00:02:34</td>\n      <td>3.0</td>\n      <td>9.0</td>\n      <td>7.0</td>\n      <td>United States</td>\n      <td>0.0</td>\n      <td>1014.000000</td>\n      <td>3.0</td>\n      <td>0.0</td>\n      <td>5.0</td>\n      <td>0.0</td>\n      <td>9.0</td>\n      <td>NaT</td>\n      <td>NaN</td>\n    </tr>\n    <tr>\n      <th>10</th>\n      <td>11.0</td>\n      <td>1900-01-01 00:21:12</td>\n      <td>2018-10-11</td>\n      <td>1900-01-01 00:33:45</td>\n      <td>00:33:46</td>\n      <td>3.0</td>\n      <td>11.0</td>\n      <td>8.0</td>\n      <td>Mexico</td>\n      <td>0.0</td>\n      <td>1049.000000</td>\n      <td>2.0</td>\n      <td>0.0</td>\n      <td>NaN</td>\n      <td>0.0</td>\n      <td>0.0</td>\n      <td>0 days 00:12:33</td>\n      <td>753.0</td>\n    </tr>\n  </tbody>\n</table>\n</div>"
     },
     "execution_count": 26,
     "metadata": {},
     "output_type": "execute_result"
    }
   ],
   "source": [
    "\n",
    "df[\"seconds\"] = df.journey_time.dt.total_seconds()\n",
    "df.head(10)"
   ]
  },
  {
   "cell_type": "code",
   "execution_count": 27,
   "metadata": {
    "collapsed": false
   },
   "outputs": [
    {
     "name": "stdout",
     "output_type": "stream",
     "text": [
      "<class 'pandas.core.frame.DataFrame'>\n",
      "Int64Index: 18146 entries, 0 to 19993\n",
      "Data columns (total 18 columns):\n",
      " #   Column                Non-Null Count  Dtype          \n",
      "---  ------                --------------  -----          \n",
      " 0   case_nbr              18146 non-null  float64        \n",
      " 1   created_dts           18146 non-null  datetime64[ns] \n",
      " 2   created_date          18146 non-null  datetime64[ns] \n",
      " 3   close_dts             18123 non-null  datetime64[ns] \n",
      " 4   last_updated_dts      18146 non-null  object         \n",
      " 5   contact_method        18146 non-null  float64        \n",
      " 6   tag_id                18146 non-null  float64        \n",
      " 7   prod_desc             18146 non-null  float64        \n",
      " 8   country_name_dawn     17602 non-null  object         \n",
      " 9   contact_method_name   18146 non-null  float64        \n",
      " 10  system_age            18146 non-null  float64        \n",
      " 11  total_inbounf_count   17911 non-null  float64        \n",
      " 12  commodity_desc        18146 non-null  float64        \n",
      " 13  total_activity_count  16515 non-null  float64        \n",
      " 14  warranty_status       18146 non-null  float64        \n",
      " 15  new_warranty_type     18146 non-null  float64        \n",
      " 16  journey_time          9659 non-null   timedelta64[ns]\n",
      " 17  seconds               9659 non-null   float64        \n",
      "dtypes: datetime64[ns](3), float64(12), object(2), timedelta64[ns](1)\n",
      "memory usage: 2.6+ MB\n"
     ]
    }
   ],
   "source": [
    "df.info()"
   ]
  },
  {
   "cell_type": "code",
   "execution_count": 28,
   "metadata": {
    "collapsed": false
   },
   "outputs": [
    {
     "data": {
      "text/plain": "                      total_missing  perc_missing\ncase_nbr                          0      0.000000\ncreated_dts                       0      0.000000\ncreated_date                      0      0.000000\nclose_dts                        23      0.126750\nlast_updated_dts                  0      0.000000\ncontact_method                    0      0.000000\ntag_id                            0      0.000000\nprod_desc                         0      0.000000\ncountry_name_dawn               544      2.997906\ncontact_method_name               0      0.000000\nsystem_age                        0      0.000000\ntotal_inbounf_count             235      1.295051\ncommodity_desc                    0      0.000000\ntotal_activity_count           1631      8.988207\nwarranty_status                   0      0.000000\nnew_warranty_type                 0      0.000000\njourney_time                   8487     46.770638\nseconds                        8487     46.770638",
      "text/html": "<div>\n<style scoped>\n    .dataframe tbody tr th:only-of-type {\n        vertical-align: middle;\n    }\n\n    .dataframe tbody tr th {\n        vertical-align: top;\n    }\n\n    .dataframe thead th {\n        text-align: right;\n    }\n</style>\n<table border=\"1\" class=\"dataframe\">\n  <thead>\n    <tr style=\"text-align: right;\">\n      <th></th>\n      <th>total_missing</th>\n      <th>perc_missing</th>\n    </tr>\n  </thead>\n  <tbody>\n    <tr>\n      <th>case_nbr</th>\n      <td>0</td>\n      <td>0.000000</td>\n    </tr>\n    <tr>\n      <th>created_dts</th>\n      <td>0</td>\n      <td>0.000000</td>\n    </tr>\n    <tr>\n      <th>created_date</th>\n      <td>0</td>\n      <td>0.000000</td>\n    </tr>\n    <tr>\n      <th>close_dts</th>\n      <td>23</td>\n      <td>0.126750</td>\n    </tr>\n    <tr>\n      <th>last_updated_dts</th>\n      <td>0</td>\n      <td>0.000000</td>\n    </tr>\n    <tr>\n      <th>contact_method</th>\n      <td>0</td>\n      <td>0.000000</td>\n    </tr>\n    <tr>\n      <th>tag_id</th>\n      <td>0</td>\n      <td>0.000000</td>\n    </tr>\n    <tr>\n      <th>prod_desc</th>\n      <td>0</td>\n      <td>0.000000</td>\n    </tr>\n    <tr>\n      <th>country_name_dawn</th>\n      <td>544</td>\n      <td>2.997906</td>\n    </tr>\n    <tr>\n      <th>contact_method_name</th>\n      <td>0</td>\n      <td>0.000000</td>\n    </tr>\n    <tr>\n      <th>system_age</th>\n      <td>0</td>\n      <td>0.000000</td>\n    </tr>\n    <tr>\n      <th>total_inbounf_count</th>\n      <td>235</td>\n      <td>1.295051</td>\n    </tr>\n    <tr>\n      <th>commodity_desc</th>\n      <td>0</td>\n      <td>0.000000</td>\n    </tr>\n    <tr>\n      <th>total_activity_count</th>\n      <td>1631</td>\n      <td>8.988207</td>\n    </tr>\n    <tr>\n      <th>warranty_status</th>\n      <td>0</td>\n      <td>0.000000</td>\n    </tr>\n    <tr>\n      <th>new_warranty_type</th>\n      <td>0</td>\n      <td>0.000000</td>\n    </tr>\n    <tr>\n      <th>journey_time</th>\n      <td>8487</td>\n      <td>46.770638</td>\n    </tr>\n    <tr>\n      <th>seconds</th>\n      <td>8487</td>\n      <td>46.770638</td>\n    </tr>\n  </tbody>\n</table>\n</div>"
     },
     "execution_count": 28,
     "metadata": {},
     "output_type": "execute_result"
    }
   ],
   "source": [
    "missing_data = pd.DataFrame({'total_missing': df.isnull().sum(), 'perc_missing': (df.isnull().sum()/18146)*100})\n",
    "missing_data"
   ]
  },
  {
   "cell_type": "code",
   "execution_count": 29,
   "metadata": {
    "collapsed": false
   },
   "outputs": [
    {
     "name": "stdout",
     "output_type": "stream",
     "text": [
      "<class 'pandas.core.frame.DataFrame'>\n",
      "Int64Index: 18146 entries, 0 to 19993\n",
      "Data columns (total 18 columns):\n",
      " #   Column                Non-Null Count  Dtype          \n",
      "---  ------                --------------  -----          \n",
      " 0   case_nbr              18146 non-null  float64        \n",
      " 1   created_dts           18146 non-null  datetime64[ns] \n",
      " 2   created_date          18146 non-null  datetime64[ns] \n",
      " 3   close_dts             18123 non-null  datetime64[ns] \n",
      " 4   last_updated_dts      18146 non-null  object         \n",
      " 5   contact_method        18146 non-null  float64        \n",
      " 6   tag_id                18146 non-null  float64        \n",
      " 7   prod_desc             18146 non-null  float64        \n",
      " 8   country_name_dawn     17602 non-null  object         \n",
      " 9   contact_method_name   18146 non-null  float64        \n",
      " 10  system_age            18146 non-null  float64        \n",
      " 11  total_inbounf_count   17911 non-null  float64        \n",
      " 12  commodity_desc        18146 non-null  float64        \n",
      " 13  total_activity_count  16515 non-null  float64        \n",
      " 14  warranty_status       18146 non-null  float64        \n",
      " 15  new_warranty_type     18146 non-null  float64        \n",
      " 16  journey_time          9659 non-null   timedelta64[ns]\n",
      " 17  seconds               9659 non-null   float64        \n",
      "dtypes: datetime64[ns](3), float64(12), object(2), timedelta64[ns](1)\n",
      "memory usage: 2.6+ MB\n"
     ]
    }
   ],
   "source": [
    "df.info()"
   ]
  },
  {
   "cell_type": "markdown",
   "metadata": {
    "collapsed": false
   },
   "source": [
    "### Filling missing values for countries with \"No Country\""
   ]
  },
  {
   "cell_type": "code",
   "execution_count": 30,
   "metadata": {
    "collapsed": false
   },
   "outputs": [],
   "source": [
    "df.country_name_dawn.fillna(\"No Country\", inplace=True)"
   ]
  },
  {
   "cell_type": "code",
   "execution_count": 31,
   "metadata": {
    "collapsed": false
   },
   "outputs": [],
   "source": [
    "df.total_activity_count.fillna(df.total_activity_count.mean(), inplace=True)\n",
    "df.total_inbounf_count.fillna(df.total_inbounf_count.mean(), inplace=True)"
   ]
  },
  {
   "cell_type": "code",
   "execution_count": 32,
   "metadata": {
    "collapsed": false
   },
   "outputs": [],
   "source": [
    "df.journey_time.fillna(df.journey_time.mean(), inplace=True)\n",
    "df.close_dts.fillna(df.close_dts.mean(), inplace=True)"
   ]
  },
  {
   "cell_type": "code",
   "execution_count": 33,
   "metadata": {
    "collapsed": false
   },
   "outputs": [],
   "source": [
    "df.seconds.fillna(df.seconds.mean(), inplace= True)"
   ]
  },
  {
   "cell_type": "code",
   "execution_count": 34,
   "metadata": {
    "collapsed": false
   },
   "outputs": [
    {
     "data": {
      "text/plain": "0"
     },
     "execution_count": 34,
     "metadata": {},
     "output_type": "execute_result"
    }
   ],
   "source": [
    "df.country_name_dawn.isnull().sum()"
   ]
  },
  {
   "cell_type": "markdown",
   "metadata": {
    "collapsed": false
   },
   "source": [
    "## GRAPHS + CONVERTING 6 COLUMNS TO CATEGORY DTYPE"
   ]
  },
  {
   "cell_type": "markdown",
   "metadata": {
    "collapsed": false
   },
   "source": [
    "### Checking possible columns to convert to category dtype"
   ]
  },
  {
   "cell_type": "markdown",
   "metadata": {
    "collapsed": false
   },
   "source": [
    "### Convert to category (commented due to adding more graphs)"
   ]
  },
  {
   "cell_type": "code",
   "execution_count": 35,
   "metadata": {
    "collapsed": false
   },
   "outputs": [],
   "source": [
    "#df.commodity_desc = df.commodity_desc.astype('category')\n",
    "#df.prod_desc = df.prod_desc.astype('category')\n",
    "#df.contact_method_name = df.contact_method_name.astype('category')\n",
    "#df.contact_method = df.contact_method.astype('category')\n",
    "#df.new_warranty_type = df.new_warranty_type.astype('category')\n",
    "#df.warranty_status = df.warranty_status.astype('category')"
   ]
  },
  {
   "cell_type": "code",
   "execution_count": 36,
   "metadata": {
    "collapsed": false
   },
   "outputs": [
    {
     "name": "stdout",
     "output_type": "stream",
     "text": [
      "<class 'pandas.core.frame.DataFrame'>\n",
      "Int64Index: 18146 entries, 0 to 19993\n",
      "Data columns (total 18 columns):\n",
      " #   Column                Non-Null Count  Dtype          \n",
      "---  ------                --------------  -----          \n",
      " 0   case_nbr              18146 non-null  float64        \n",
      " 1   created_dts           18146 non-null  datetime64[ns] \n",
      " 2   created_date          18146 non-null  datetime64[ns] \n",
      " 3   close_dts             18146 non-null  datetime64[ns] \n",
      " 4   last_updated_dts      18146 non-null  object         \n",
      " 5   contact_method        18146 non-null  float64        \n",
      " 6   tag_id                18146 non-null  float64        \n",
      " 7   prod_desc             18146 non-null  float64        \n",
      " 8   country_name_dawn     18146 non-null  object         \n",
      " 9   contact_method_name   18146 non-null  float64        \n",
      " 10  system_age            18146 non-null  float64        \n",
      " 11  total_inbounf_count   18146 non-null  float64        \n",
      " 12  commodity_desc        18146 non-null  float64        \n",
      " 13  total_activity_count  18146 non-null  float64        \n",
      " 14  warranty_status       18146 non-null  float64        \n",
      " 15  new_warranty_type     18146 non-null  float64        \n",
      " 16  journey_time          18146 non-null  timedelta64[ns]\n",
      " 17  seconds               18146 non-null  float64        \n",
      "dtypes: datetime64[ns](3), float64(12), object(2), timedelta64[ns](1)\n",
      "memory usage: 2.6+ MB\n"
     ]
    }
   ],
   "source": [
    "df.info()"
   ]
  },
  {
   "cell_type": "markdown",
   "metadata": {
    "collapsed": false
   },
   "source": [
    "### Comparing similar columns"
   ]
  },
  {
   "cell_type": "markdown",
   "metadata": {
    "collapsed": false
   },
   "source": [
    "### Adding Continent Column"
   ]
  },
  {
   "cell_type": "code",
   "execution_count": 37,
   "metadata": {
    "collapsed": false
   },
   "outputs": [],
   "source": [
    "asia = ['Afghanistan', 'Bahrain', 'United Arab Emirates','Saudi Arabia', 'Kuwait', 'Qatar', 'Oman',\n",
    "       'Sultanate of Oman','Lebanon', 'Iraq', 'Yemen', 'Pakistan', 'Lebanon', 'Philippines', 'Jordan', 'Taiwan',\n",
    "       'Indonesia', 'Singapore', 'China', 'Korea', 'Hong Kong', 'Malaysia', 'India', 'APJ Support', 'Japan', 'Thailand']\n",
    "europe = ['Germany','Spain', 'France', 'Italy', 'Netherlands', 'Norway', 'Sweden','Czech Republic', 'Finland',\n",
    "          'Denmark', 'Switzerland', 'United Kingdom', 'Ireland', 'Poland', 'Greece','Austria',\n",
    "          'Bulgaria', 'Hungary', 'Luxembourg', 'Romania' , 'Slovakia', 'Estonia', 'Slovenia','Portugal',\n",
    "          'Croatia', 'Lithuania', 'Latvia','Serbia', 'Estonia', 'Iceland', 'Western Europe' , 'CEE eCis' , 'Belgium']\n",
    "sa =['Chile', 'Peru', 'Argentina', 'Colombia', 'Mexico', 'Brazil']\n",
    "na = ['United States', 'Canada']\n",
    "africa = ['South Africa']\n",
    "oceania = ['Australia', 'New Zealand']\n",
    "\n",
    "\n",
    "def GetConti(country):\n",
    "    if country in asia:\n",
    "        return \"Asia\"\n",
    "    elif country in europe:\n",
    "        return \"Europe\"\n",
    "    elif country in africa:\n",
    "        return \"Africa\"\n",
    "    elif country in na:\n",
    "        return \"North America\"\n",
    "    elif country in sa:\n",
    "        return \"South America\"\n",
    "    elif country in oceania:\n",
    "        return \"Oceania\"\n",
    "    else:\n",
    "        return \"No country\"\n",
    "\n",
    "\n",
    "df['Continent'] = df['country_name_dawn'].apply(lambda x: GetConti(x))"
   ]
  },
  {
   "cell_type": "code",
   "execution_count": 38,
   "metadata": {
    "collapsed": false
   },
   "outputs": [
    {
     "data": {
      "text/plain": "    case_nbr         created_dts created_date           close_dts  \\\n0        1.0 1900-01-01 00:12:00   2019-02-01 1900-01-01 00:57:26   \n1        2.0 1900-01-01 00:11:48   2019-02-06 1900-01-01 00:39:52   \n2        3.0 1900-01-01 00:47:10   2018-10-05 1900-01-01 00:35:51   \n3        4.0 1900-01-01 00:52:45   2018-11-14 1900-01-01 00:27:59   \n4        5.0 1900-01-01 00:59:46   2019-01-07 1900-01-01 00:57:15   \n5        6.0 1900-01-01 00:06:11   2018-10-31 1900-01-01 00:50:22   \n6        7.0 1900-01-01 00:59:34   2018-06-26 1900-01-01 00:21:25   \n7        8.0 1900-01-01 00:34:37   2018-08-15 1900-01-01 00:48:29   \n8        9.0 1900-01-01 00:23:34   2018-12-11 1900-01-01 00:02:56   \n10      11.0 1900-01-01 00:21:12   2018-10-11 1900-01-01 00:33:45   \n\n   last_updated_dts  contact_method  tag_id  prod_desc country_name_dawn  \\\n0          00:46:57             2.0     1.0        8.0    United Kingdom   \n1          00:12:16             3.0     2.0        4.0       New Zealand   \n2          00:35:06             3.0     3.0        7.0     United States   \n3          00:49:22             3.0     4.0        8.0     United States   \n4          00:31:51             3.0     5.0       11.0     United States   \n5          00:49:53             1.0     6.0        8.0             Japan   \n6          00:21:53             3.0     7.0        8.0     United States   \n7          00:47:51             3.0     8.0        8.0          Colombia   \n8          00:02:34             3.0     9.0        7.0     United States   \n10         00:33:46             3.0    11.0        8.0            Mexico   \n\n    contact_method_name   system_age  total_inbounf_count  commodity_desc  \\\n0                   0.0   677.000000                  4.0             1.0   \n1                   2.0  1738.000000                  3.0             1.0   \n2                   0.0   692.562918                  4.0             0.0   \n3                   0.0  1075.000000                  3.0             1.0   \n4                   0.0   138.000000                  3.0             0.0   \n5                   1.0  1799.000000                  2.0             1.0   \n6                   0.0   123.000000                  2.0             1.0   \n7                   0.0  1324.000000                  3.0             0.0   \n8                   0.0  1014.000000                  3.0             0.0   \n10                  0.0  1049.000000                  2.0             0.0   \n\n    total_activity_count  warranty_status  new_warranty_type  \\\n0               9.000000              0.0                9.0   \n1               7.000000              1.0                4.0   \n2               8.000000              1.0                4.0   \n3               5.000000              0.0                9.0   \n4               5.000000              0.0                9.0   \n5               4.000000              0.0                9.0   \n6               3.000000              0.0                9.0   \n7               4.000000              0.0                9.0   \n8               5.000000              0.0                9.0   \n10              7.726491              0.0                0.0   \n\n                journey_time      seconds      Continent  \n0            0 days 00:45:26  2726.000000         Europe  \n1            0 days 00:28:04  1684.000000        Oceania  \n2  0 days 00:19:23.595196190  1163.595196  North America  \n3  0 days 00:19:23.595196190  1163.595196  North America  \n4  0 days 00:19:23.595196190  1163.595196  North America  \n5            0 days 00:44:11  2651.000000           Asia  \n6  0 days 00:19:23.595196190  1163.595196  North America  \n7            0 days 00:13:52   832.000000  South America  \n8  0 days 00:19:23.595196190  1163.595196  North America  \n10           0 days 00:12:33   753.000000  South America  ",
      "text/html": "<div>\n<style scoped>\n    .dataframe tbody tr th:only-of-type {\n        vertical-align: middle;\n    }\n\n    .dataframe tbody tr th {\n        vertical-align: top;\n    }\n\n    .dataframe thead th {\n        text-align: right;\n    }\n</style>\n<table border=\"1\" class=\"dataframe\">\n  <thead>\n    <tr style=\"text-align: right;\">\n      <th></th>\n      <th>case_nbr</th>\n      <th>created_dts</th>\n      <th>created_date</th>\n      <th>close_dts</th>\n      <th>last_updated_dts</th>\n      <th>contact_method</th>\n      <th>tag_id</th>\n      <th>prod_desc</th>\n      <th>country_name_dawn</th>\n      <th>contact_method_name</th>\n      <th>system_age</th>\n      <th>total_inbounf_count</th>\n      <th>commodity_desc</th>\n      <th>total_activity_count</th>\n      <th>warranty_status</th>\n      <th>new_warranty_type</th>\n      <th>journey_time</th>\n      <th>seconds</th>\n      <th>Continent</th>\n    </tr>\n  </thead>\n  <tbody>\n    <tr>\n      <th>0</th>\n      <td>1.0</td>\n      <td>1900-01-01 00:12:00</td>\n      <td>2019-02-01</td>\n      <td>1900-01-01 00:57:26</td>\n      <td>00:46:57</td>\n      <td>2.0</td>\n      <td>1.0</td>\n      <td>8.0</td>\n      <td>United Kingdom</td>\n      <td>0.0</td>\n      <td>677.000000</td>\n      <td>4.0</td>\n      <td>1.0</td>\n      <td>9.000000</td>\n      <td>0.0</td>\n      <td>9.0</td>\n      <td>0 days 00:45:26</td>\n      <td>2726.000000</td>\n      <td>Europe</td>\n    </tr>\n    <tr>\n      <th>1</th>\n      <td>2.0</td>\n      <td>1900-01-01 00:11:48</td>\n      <td>2019-02-06</td>\n      <td>1900-01-01 00:39:52</td>\n      <td>00:12:16</td>\n      <td>3.0</td>\n      <td>2.0</td>\n      <td>4.0</td>\n      <td>New Zealand</td>\n      <td>2.0</td>\n      <td>1738.000000</td>\n      <td>3.0</td>\n      <td>1.0</td>\n      <td>7.000000</td>\n      <td>1.0</td>\n      <td>4.0</td>\n      <td>0 days 00:28:04</td>\n      <td>1684.000000</td>\n      <td>Oceania</td>\n    </tr>\n    <tr>\n      <th>2</th>\n      <td>3.0</td>\n      <td>1900-01-01 00:47:10</td>\n      <td>2018-10-05</td>\n      <td>1900-01-01 00:35:51</td>\n      <td>00:35:06</td>\n      <td>3.0</td>\n      <td>3.0</td>\n      <td>7.0</td>\n      <td>United States</td>\n      <td>0.0</td>\n      <td>692.562918</td>\n      <td>4.0</td>\n      <td>0.0</td>\n      <td>8.000000</td>\n      <td>1.0</td>\n      <td>4.0</td>\n      <td>0 days 00:19:23.595196190</td>\n      <td>1163.595196</td>\n      <td>North America</td>\n    </tr>\n    <tr>\n      <th>3</th>\n      <td>4.0</td>\n      <td>1900-01-01 00:52:45</td>\n      <td>2018-11-14</td>\n      <td>1900-01-01 00:27:59</td>\n      <td>00:49:22</td>\n      <td>3.0</td>\n      <td>4.0</td>\n      <td>8.0</td>\n      <td>United States</td>\n      <td>0.0</td>\n      <td>1075.000000</td>\n      <td>3.0</td>\n      <td>1.0</td>\n      <td>5.000000</td>\n      <td>0.0</td>\n      <td>9.0</td>\n      <td>0 days 00:19:23.595196190</td>\n      <td>1163.595196</td>\n      <td>North America</td>\n    </tr>\n    <tr>\n      <th>4</th>\n      <td>5.0</td>\n      <td>1900-01-01 00:59:46</td>\n      <td>2019-01-07</td>\n      <td>1900-01-01 00:57:15</td>\n      <td>00:31:51</td>\n      <td>3.0</td>\n      <td>5.0</td>\n      <td>11.0</td>\n      <td>United States</td>\n      <td>0.0</td>\n      <td>138.000000</td>\n      <td>3.0</td>\n      <td>0.0</td>\n      <td>5.000000</td>\n      <td>0.0</td>\n      <td>9.0</td>\n      <td>0 days 00:19:23.595196190</td>\n      <td>1163.595196</td>\n      <td>North America</td>\n    </tr>\n    <tr>\n      <th>5</th>\n      <td>6.0</td>\n      <td>1900-01-01 00:06:11</td>\n      <td>2018-10-31</td>\n      <td>1900-01-01 00:50:22</td>\n      <td>00:49:53</td>\n      <td>1.0</td>\n      <td>6.0</td>\n      <td>8.0</td>\n      <td>Japan</td>\n      <td>1.0</td>\n      <td>1799.000000</td>\n      <td>2.0</td>\n      <td>1.0</td>\n      <td>4.000000</td>\n      <td>0.0</td>\n      <td>9.0</td>\n      <td>0 days 00:44:11</td>\n      <td>2651.000000</td>\n      <td>Asia</td>\n    </tr>\n    <tr>\n      <th>6</th>\n      <td>7.0</td>\n      <td>1900-01-01 00:59:34</td>\n      <td>2018-06-26</td>\n      <td>1900-01-01 00:21:25</td>\n      <td>00:21:53</td>\n      <td>3.0</td>\n      <td>7.0</td>\n      <td>8.0</td>\n      <td>United States</td>\n      <td>0.0</td>\n      <td>123.000000</td>\n      <td>2.0</td>\n      <td>1.0</td>\n      <td>3.000000</td>\n      <td>0.0</td>\n      <td>9.0</td>\n      <td>0 days 00:19:23.595196190</td>\n      <td>1163.595196</td>\n      <td>North America</td>\n    </tr>\n    <tr>\n      <th>7</th>\n      <td>8.0</td>\n      <td>1900-01-01 00:34:37</td>\n      <td>2018-08-15</td>\n      <td>1900-01-01 00:48:29</td>\n      <td>00:47:51</td>\n      <td>3.0</td>\n      <td>8.0</td>\n      <td>8.0</td>\n      <td>Colombia</td>\n      <td>0.0</td>\n      <td>1324.000000</td>\n      <td>3.0</td>\n      <td>0.0</td>\n      <td>4.000000</td>\n      <td>0.0</td>\n      <td>9.0</td>\n      <td>0 days 00:13:52</td>\n      <td>832.000000</td>\n      <td>South America</td>\n    </tr>\n    <tr>\n      <th>8</th>\n      <td>9.0</td>\n      <td>1900-01-01 00:23:34</td>\n      <td>2018-12-11</td>\n      <td>1900-01-01 00:02:56</td>\n      <td>00:02:34</td>\n      <td>3.0</td>\n      <td>9.0</td>\n      <td>7.0</td>\n      <td>United States</td>\n      <td>0.0</td>\n      <td>1014.000000</td>\n      <td>3.0</td>\n      <td>0.0</td>\n      <td>5.000000</td>\n      <td>0.0</td>\n      <td>9.0</td>\n      <td>0 days 00:19:23.595196190</td>\n      <td>1163.595196</td>\n      <td>North America</td>\n    </tr>\n    <tr>\n      <th>10</th>\n      <td>11.0</td>\n      <td>1900-01-01 00:21:12</td>\n      <td>2018-10-11</td>\n      <td>1900-01-01 00:33:45</td>\n      <td>00:33:46</td>\n      <td>3.0</td>\n      <td>11.0</td>\n      <td>8.0</td>\n      <td>Mexico</td>\n      <td>0.0</td>\n      <td>1049.000000</td>\n      <td>2.0</td>\n      <td>0.0</td>\n      <td>7.726491</td>\n      <td>0.0</td>\n      <td>0.0</td>\n      <td>0 days 00:12:33</td>\n      <td>753.000000</td>\n      <td>South America</td>\n    </tr>\n  </tbody>\n</table>\n</div>"
     },
     "execution_count": 38,
     "metadata": {},
     "output_type": "execute_result"
    }
   ],
   "source": [
    "df.head(10)"
   ]
  },
  {
   "cell_type": "markdown",
   "metadata": {
    "collapsed": false
   },
   "source": [
    "### Encoding Continents"
   ]
  },
  {
   "cell_type": "code",
   "execution_count": 39,
   "metadata": {
    "collapsed": false
   },
   "outputs": [
    {
     "ename": "KeyError",
     "evalue": "'0'",
     "output_type": "error",
     "traceback": [
      "\u001B[0;31m---------------------------------------------------------------------------\u001B[0m",
      "\u001B[0;31mKeyError\u001B[0m                                  Traceback (most recent call last)",
      "File \u001B[0;32m~/lib/python3.11/site-packages/pandas/core/indexes/base.py:3802\u001B[0m, in \u001B[0;36mIndex.get_loc\u001B[0;34m(self, key, method, tolerance)\u001B[0m\n\u001B[1;32m   3801\u001B[0m \u001B[38;5;28;01mtry\u001B[39;00m:\n\u001B[0;32m-> 3802\u001B[0m     \u001B[38;5;28;01mreturn\u001B[39;00m \u001B[38;5;28;43mself\u001B[39;49m\u001B[38;5;241;43m.\u001B[39;49m\u001B[43m_engine\u001B[49m\u001B[38;5;241;43m.\u001B[39;49m\u001B[43mget_loc\u001B[49m\u001B[43m(\u001B[49m\u001B[43mcasted_key\u001B[49m\u001B[43m)\u001B[49m\n\u001B[1;32m   3803\u001B[0m \u001B[38;5;28;01mexcept\u001B[39;00m \u001B[38;5;167;01mKeyError\u001B[39;00m \u001B[38;5;28;01mas\u001B[39;00m err:\n",
      "File \u001B[0;32m~/lib/python3.11/site-packages/pandas/_libs/index.pyx:138\u001B[0m, in \u001B[0;36mpandas._libs.index.IndexEngine.get_loc\u001B[0;34m()\u001B[0m\n",
      "File \u001B[0;32m~/lib/python3.11/site-packages/pandas/_libs/index.pyx:165\u001B[0m, in \u001B[0;36mpandas._libs.index.IndexEngine.get_loc\u001B[0;34m()\u001B[0m\n",
      "File \u001B[0;32mpandas/_libs/hashtable_class_helper.pxi:5745\u001B[0m, in \u001B[0;36mpandas._libs.hashtable.PyObjectHashTable.get_item\u001B[0;34m()\u001B[0m\n",
      "File \u001B[0;32mpandas/_libs/hashtable_class_helper.pxi:5753\u001B[0m, in \u001B[0;36mpandas._libs.hashtable.PyObjectHashTable.get_item\u001B[0;34m()\u001B[0m\n",
      "\u001B[0;31mKeyError\u001B[0m: '0'",
      "\nThe above exception was the direct cause of the following exception:\n",
      "\u001B[0;31mKeyError\u001B[0m                                  Traceback (most recent call last)",
      "Cell \u001B[0;32mIn[39], line 9\u001B[0m\n\u001B[1;32m      7\u001B[0m enc_df \u001B[38;5;241m=\u001B[39m pd\u001B[38;5;241m.\u001B[39mDataFrame(enc\u001B[38;5;241m.\u001B[39mfit_transform(df[[\u001B[38;5;124m'\u001B[39m\u001B[38;5;124mcontinent_cat\u001B[39m\u001B[38;5;124m'\u001B[39m]])\u001B[38;5;241m.\u001B[39mtoarray())\n\u001B[1;32m      8\u001B[0m df \u001B[38;5;241m=\u001B[39m df\u001B[38;5;241m.\u001B[39mjoin(enc_df)\n\u001B[0;32m----> 9\u001B[0m \u001B[43mdf\u001B[49m\u001B[43m[\u001B[49m\u001B[38;5;124;43m\"\u001B[39;49m\u001B[38;5;124;43m0\u001B[39;49m\u001B[38;5;124;43m\"\u001B[39;49m\u001B[43m]\u001B[49m\u001B[38;5;241m.\u001B[39mfillna(df[\u001B[38;5;124m\"\u001B[39m\u001B[38;5;124m0\u001B[39m\u001B[38;5;124m\"\u001B[39m]\u001B[38;5;241m.\u001B[39mmean(), inplace\u001B[38;5;241m=\u001B[39m\u001B[38;5;28;01mTrue\u001B[39;00m)\n\u001B[1;32m     10\u001B[0m df[\u001B[38;5;124m\"\u001B[39m\u001B[38;5;124m1\u001B[39m\u001B[38;5;124m\"\u001B[39m]\u001B[38;5;241m.\u001B[39mfillna(df[\u001B[38;5;124m\"\u001B[39m\u001B[38;5;124m1\u001B[39m\u001B[38;5;124m\"\u001B[39m]\u001B[38;5;241m.\u001B[39mmean(), inplace\u001B[38;5;241m=\u001B[39m\u001B[38;5;28;01mTrue\u001B[39;00m)\n\u001B[1;32m     11\u001B[0m df[\u001B[38;5;124m\"\u001B[39m\u001B[38;5;124m2\u001B[39m\u001B[38;5;124m\"\u001B[39m]\u001B[38;5;241m.\u001B[39mfillna(df[\u001B[38;5;124m\"\u001B[39m\u001B[38;5;124m2\u001B[39m\u001B[38;5;124m\"\u001B[39m]\u001B[38;5;241m.\u001B[39mmean(), inplace\u001B[38;5;241m=\u001B[39m\u001B[38;5;28;01mTrue\u001B[39;00m)\n",
      "File \u001B[0;32m~/lib/python3.11/site-packages/pandas/core/frame.py:3807\u001B[0m, in \u001B[0;36mDataFrame.__getitem__\u001B[0;34m(self, key)\u001B[0m\n\u001B[1;32m   3805\u001B[0m \u001B[38;5;28;01mif\u001B[39;00m \u001B[38;5;28mself\u001B[39m\u001B[38;5;241m.\u001B[39mcolumns\u001B[38;5;241m.\u001B[39mnlevels \u001B[38;5;241m>\u001B[39m \u001B[38;5;241m1\u001B[39m:\n\u001B[1;32m   3806\u001B[0m     \u001B[38;5;28;01mreturn\u001B[39;00m \u001B[38;5;28mself\u001B[39m\u001B[38;5;241m.\u001B[39m_getitem_multilevel(key)\n\u001B[0;32m-> 3807\u001B[0m indexer \u001B[38;5;241m=\u001B[39m \u001B[38;5;28;43mself\u001B[39;49m\u001B[38;5;241;43m.\u001B[39;49m\u001B[43mcolumns\u001B[49m\u001B[38;5;241;43m.\u001B[39;49m\u001B[43mget_loc\u001B[49m\u001B[43m(\u001B[49m\u001B[43mkey\u001B[49m\u001B[43m)\u001B[49m\n\u001B[1;32m   3808\u001B[0m \u001B[38;5;28;01mif\u001B[39;00m is_integer(indexer):\n\u001B[1;32m   3809\u001B[0m     indexer \u001B[38;5;241m=\u001B[39m [indexer]\n",
      "File \u001B[0;32m~/lib/python3.11/site-packages/pandas/core/indexes/base.py:3804\u001B[0m, in \u001B[0;36mIndex.get_loc\u001B[0;34m(self, key, method, tolerance)\u001B[0m\n\u001B[1;32m   3802\u001B[0m     \u001B[38;5;28;01mreturn\u001B[39;00m \u001B[38;5;28mself\u001B[39m\u001B[38;5;241m.\u001B[39m_engine\u001B[38;5;241m.\u001B[39mget_loc(casted_key)\n\u001B[1;32m   3803\u001B[0m \u001B[38;5;28;01mexcept\u001B[39;00m \u001B[38;5;167;01mKeyError\u001B[39;00m \u001B[38;5;28;01mas\u001B[39;00m err:\n\u001B[0;32m-> 3804\u001B[0m     \u001B[38;5;28;01mraise\u001B[39;00m \u001B[38;5;167;01mKeyError\u001B[39;00m(key) \u001B[38;5;28;01mfrom\u001B[39;00m \u001B[38;5;21;01merr\u001B[39;00m\n\u001B[1;32m   3805\u001B[0m \u001B[38;5;28;01mexcept\u001B[39;00m \u001B[38;5;167;01mTypeError\u001B[39;00m:\n\u001B[1;32m   3806\u001B[0m     \u001B[38;5;66;03m# If we have a listlike key, _check_indexing_error will raise\u001B[39;00m\n\u001B[1;32m   3807\u001B[0m     \u001B[38;5;66;03m#  InvalidIndexError. Otherwise we fall through and re-raise\u001B[39;00m\n\u001B[1;32m   3808\u001B[0m     \u001B[38;5;66;03m#  the TypeError.\u001B[39;00m\n\u001B[1;32m   3809\u001B[0m     \u001B[38;5;28mself\u001B[39m\u001B[38;5;241m.\u001B[39m_check_indexing_error(key)\n",
      "\u001B[0;31mKeyError\u001B[0m: '0'"
     ]
    }
   ],
   "source": [
    "from sklearn.preprocessing import OneHotEncoder\n",
    "\n",
    "\n",
    "le = preprocessing.LabelEncoder()\n",
    "df['continent_cat'] = le.fit_transform(df['Continent'])"
   ]
  },
  {
   "cell_type": "code",
   "execution_count": null,
   "metadata": {
    "collapsed": false
   },
   "outputs": [],
   "source": [
    "df.info()"
   ]
  },
  {
   "cell_type": "code",
   "execution_count": null,
   "metadata": {
    "collapsed": false
   },
   "outputs": [],
   "source": [
    "df['date_delta'] = (df['created_date'] - df['created_date'].min())  / np.timedelta64(1,'D')"
   ]
  },
  {
   "cell_type": "code",
   "execution_count": null,
   "metadata": {
    "collapsed": false
   },
   "outputs": [],
   "source": [
    "df.head(10)"
   ]
  },
  {
   "cell_type": "markdown",
   "metadata": {
    "collapsed": false
   },
   "source": []
  },
  {
   "cell_type": "markdown",
   "metadata": {
    "collapsed": false
   },
   "source": []
  },
  {
   "cell_type": "code",
   "execution_count": null,
   "metadata": {
    "collapsed": false
   },
   "outputs": [],
   "source": [
    "to_drop2 = [\n",
    "    \"last_updated_dts\", \"tag_id\", \"contact_method\", \"contact_method_name\",\n",
    "]\n",
    "\n",
    "# Drop them\n",
    "df.drop(to_drop2, axis='columns', inplace=True)"
   ]
  },
  {
   "cell_type": "code",
   "execution_count": 52,
   "outputs": [
    {
     "ename": "TypeError",
     "evalue": "'NoneType' object is not subscriptable",
     "output_type": "error",
     "traceback": [
      "\u001B[0;31m---------------------------------------------------------------------------\u001B[0m",
      "\u001B[0;31mTypeError\u001B[0m                                 Traceback (most recent call last)",
      "Cell \u001B[0;32mIn[52], line 1\u001B[0m\n\u001B[0;32m----> 1\u001B[0m df\u001B[38;5;241m.\u001B[39mto_csv(\u001B[38;5;28mstr\u001B[39m(\u001B[43mproduct\u001B[49m\u001B[43m[\u001B[49m\u001B[38;5;124;43m'\u001B[39;49m\u001B[38;5;124;43mdata\u001B[39;49m\u001B[38;5;124;43m'\u001B[39;49m\u001B[43m]\u001B[49m))\n",
      "\u001B[0;31mTypeError\u001B[0m: 'NoneType' object is not subscriptable"
     ]
    }
   ],
   "source": [
    "df.to_csv(str(product['data']), index=False)"
   ],
   "metadata": {
    "collapsed": false
   }
  },
  {
   "cell_type": "code",
   "execution_count": 48,
   "outputs": [],
   "source": [],
   "metadata": {
    "collapsed": false
   }
  }
 ],
 "metadata": {
  "kernelspec": {
   "display_name": "Python 3",
   "language": "python",
   "name": "python3"
  },
  "language_info": {
   "codemirror_mode": {
    "name": "ipython",
    "version": 2
   },
   "file_extension": ".py",
   "mimetype": "text/x-python",
   "name": "python",
   "nbconvert_exporter": "python",
   "pygments_lexer": "ipython2",
   "version": "2.7.6"
  }
 },
 "nbformat": 4,
 "nbformat_minor": 0
}
